{
 "cells": [
  {
   "cell_type": "markdown",
   "metadata": {},
   "source": [
    "# Sheet 1 - Programming Exercise (Ex. 3):  Single Compartment Model\n",
    "\n",
    "In the pen-and-paper exercises (Ex. 1 and Ex. 2), we have already computed the response of a point neuron with passive membrane to an input current. In this programming exercise, we will solve the same neuron numerically. In later exercises, we will build on this model, including more sophisticated elements.\n",
    "\n",
    "This notebook contains the overall structure of the assignment. Please do not delete or alter pre-written code; you will only need to fill in code in specific cells. Parts that need to be changed to solve the tasks always start and end with ### YOUR CODE HERE ###. "
   ]
  },
  {
   "cell_type": "code",
   "execution_count": null,
   "metadata": {},
   "outputs": [],
   "source": [
    "import numpy as np\n",
    "import matplotlib.pyplot as plt"
   ]
  },
  {
   "cell_type": "markdown",
   "metadata": {},
   "source": [
    "We are interested in the equivalent circuit that we already considered in the pen-and-paper exercises.\n",
    "![](rc_circuit_current.png)\n",
    "In particular, we want to find the response of the membrane potential over time, denoted as $V(\\cdot)$, to some input current $I_e(\\cdot)$. We will implement the circuit model, and then approximate $V(\\cdot)$ numerically.\n",
    "First, we need to initialize the model's parameters. We set them as\n",
    "- membrane equilibrium potential: $E_m = 0V$\n",
    "- length: $L = 100\\mu m$\n",
    "- diameter: $d = 2\\mu m$\n",
    "- specific membrane resistance: $r_m = 1\\Omega m^2$\n",
    "- specific membrance capacitance: $c_m = 10^{-2} F m^{-2}$"
   ]
  },
  {
   "cell_type": "markdown",
   "metadata": {},
   "source": [
    "### 3.1"
   ]
  },
  {
   "cell_type": "markdown",
   "metadata": {},
   "source": [
    "<div class=\"alert alert-block alert-success\">\n",
    "<b>Task:</b> Implement the model parameters.\n",
    "\n",
    "Remember to only alter code between the ### YOUR CODE HERE ### statements! The parameters needed for the simulation are already implemented\n",
    "</div>"
   ]
  },
  {
   "cell_type": "code",
   "execution_count": null,
   "metadata": {},
   "outputs": [],
   "source": [
    "delta_t, t_start, t_stop = 1e-4, 0., 0.2\n",
    "\n",
    "### YOUR CODE HERE ###\n",
    "\n",
    "Em, L, d, rm, cm = _, _, _, _, _\n",
    "\n",
    "### YOUR CODE HERE ###"
   ]
  },
  {
   "cell_type": "markdown",
   "metadata": {},
   "source": [
    "We have the model parameters given as _specific_ values which are normalized spatially, whereas the input current is not given as a density. Thus, we need to convert our specific parameters to non-specific ones."
   ]
  },
  {
   "cell_type": "markdown",
   "metadata": {},
   "source": [
    "<div class=\"alert alert-block alert-success\">\n",
    "<b>Task:</b> Complete the function convert_parameters() to convert the specific parameters.\n",
    "\n",
    "<i>Hint:</i> You only need to convert $r_m$ and $c_m$.\n",
    "</div>\n"
   ]
  },
  {
   "cell_type": "code",
   "execution_count": 1,
   "metadata": {},
   "outputs": [],
   "source": [
    "def convert_parameters(Em, L, d, rm, cm):     \n",
    "    '''Returns non-speficic paramaters for a given set of specific parameters.\n",
    "    \n",
    "    Args:\n",
    "        Em: Equilibrium potential\n",
    "        L: Length of the compartment\n",
    "        d: Diameter of the compartment\n",
    "        rm: Specific membrane resistance\n",
    "        cm: Specific membrane capacitance\n",
    "         \n",
    "    Returns:\n",
    "        Em: Equilibrium potential\n",
    "        L: Length of the compartment\n",
    "        d: Diameter of the compartment\n",
    "        Rm: Membrane resistance\n",
    "        Mm: Membrane capacitance         \n",
    "    '''\n",
    "    \n",
    "    ### YOUR CODE HERE ###\n",
    "    \n",
    "\n",
    "    ### YOUR CODE HERE ###\n",
    "    \n",
    "    return Em, L, d, Rm, Cm"
   ]
  },
  {
   "cell_type": "code",
   "execution_count": null,
   "metadata": {},
   "outputs": [],
   "source": [
    "# Call the function to convert the initial parameters\n",
    "\n",
    "Em, L, d, Rm, Cm = convert_parameters(Em, L, d, rm, cm)"
   ]
  },
  {
   "cell_type": "markdown",
   "metadata": {},
   "source": [
    "### 3.2"
   ]
  },
  {
   "cell_type": "markdown",
   "metadata": {},
   "source": [
    "Having initialized the model parameters, we next need to implement the current input to the circuit. First, we will simulate a step input of the form\n",
    "$$\n",
    "I_e(t) = \n",
    "\\begin{cases}\n",
    "0, & t < 0 \\\\\n",
    "-50pA, & 0 \\leq t\n",
    "\\end{cases}.\n",
    "$$"
   ]
  },
  {
   "cell_type": "markdown",
   "metadata": {},
   "source": [
    "<div class=\"alert alert-block alert-success\">\n",
    "<b>Task:</b> Implement the step-function input.\n",
    "\n",
    "</div>\n"
   ]
  },
  {
   "cell_type": "code",
   "execution_count": null,
   "metadata": {},
   "outputs": [],
   "source": [
    "def step_input(time):    \n",
    "    '''Implements the time-dependent input current I_e.\n",
    "    \n",
    "    Args:\n",
    "        Time as float\n",
    "         \n",
    "    Returns:\n",
    "        Input current at the given time as float     \n",
    "    '''\n",
    "    \n",
    "    ### YOUR CODE HERE ###\n",
    "\n",
    "    \n",
    "    ### YOUR CODE HERE ###"
   ]
  },
  {
   "cell_type": "markdown",
   "metadata": {},
   "source": [
    "Now, let's put everything together to simulate the neuron. In the pen-and-paper exercises, we derived the DEQ governing the membrane potential, namely\n",
    "\n",
    "$$\n",
    "C_m \\frac{\\text{d}V}{\\text{d}t} = \\frac{E_m - V(t)}{R_m} + I_e(t).\n",
    "$$\n",
    "To solve this equation, use Euler's backward method to approximate $\\frac{\\text{d}V}{\\text{d}t}$ by\n",
    "$$\n",
    "\\frac{V(t) - V(t - \\Delta t)}{\\Delta t}.\n",
    "$$"
   ]
  },
  {
   "cell_type": "markdown",
   "metadata": {},
   "source": [
    "<div class=\"alert alert-block alert-success\">\n",
    "<b>Task:</b> Write a function to simulate the membrane response to the step input by approximating $V(\\cdot )$.\n",
    "\n",
    "\n",
    "</div>"
   ]
  },
  {
   "cell_type": "code",
   "execution_count": 4,
   "metadata": {},
   "outputs": [],
   "source": [
    "def simulate_step_function(delta_t, t_start, t_stop, Em, L, d, Rm, Cm):     \n",
    "    '''Solves the single-compartment equation using Euler approximation.\n",
    "    \n",
    "    Args:\n",
    "        delta_t: Time step size for Euler\n",
    "        t_start: Start time of the simulation\n",
    "        t_stop: End time of the simulation\n",
    "        Em, L, d, Rm, Cm: As before. Output of convert_parameters() function\n",
    "         \n",
    "         \n",
    "    Returns:\n",
    "        t: Grid points on which the solution is evaluated\n",
    "        v: The approximated membrane potential evaluated at the grid points            \n",
    "    '''\n",
    "    \n",
    "    ### YOUR CODE HERE ###\n",
    "    \n",
    "        \n",
    "    ### YOUR CODE HERE ###\n",
    "    \n",
    "    return t, v"
   ]
  },
  {
   "cell_type": "markdown",
   "metadata": {},
   "source": [
    "<div class=\"alert alert-block alert-success\">\n",
    "<b>Task:</b> Test your function for different values of $\\Delta t$. In particular, set $\\Delta t$ to 0.01, 0.001, 0.0001. What changes in the simulation?\n",
    "\n",
    "<i>Note:</i> In the following, we will play around with the parameters. In each task, set all parameters not explicitly mentioned to equal the initial parameters we defined earlier.\n",
    "</div>"
   ]
  },
  {
   "cell_type": "code",
   "execution_count": null,
   "metadata": {},
   "outputs": [],
   "source": [
    "### YOUR CODE HERE ###\n",
    "\n",
    "\n",
    "### YOUR CODE HERE"
   ]
  },
  {
   "cell_type": "markdown",
   "metadata": {},
   "source": [
    "<b> Your Answer: </b>"
   ]
  },
  {
   "cell_type": "markdown",
   "metadata": {},
   "source": [
    "<div class=\"alert alert-block alert-success\">\n",
    "<b>Task:</b> From now on, set $\\Delta t = 0.0001$. Simulate the neuron for $c_m = 0.01 F m^{-2}$ and $c_m = 0.1 F m^{-2}$. What changes, and why?\n",
    "\n",
    "\n",
    "</div>"
   ]
  },
  {
   "cell_type": "code",
   "execution_count": null,
   "metadata": {},
   "outputs": [],
   "source": [
    "### YOUR CODE HERE ###\n",
    "\n",
    "\n",
    "### YOUR CODE HERE ###"
   ]
  },
  {
   "cell_type": "markdown",
   "metadata": {},
   "source": [
    "<b> Your Answer: </b>"
   ]
  },
  {
   "cell_type": "markdown",
   "metadata": {},
   "source": [
    "<div class=\"alert alert-block alert-success\">\n",
    "<b>Task:</b> Simulate the neuron for $r_m = 1\\Omega m^2$ and $r_m = 10 \\Omega m^2$. What changes, and why?\n",
    "\n",
    "\n",
    "</div>"
   ]
  },
  {
   "cell_type": "code",
   "execution_count": null,
   "metadata": {},
   "outputs": [],
   "source": [
    "### YOUR CODE HERE ###\n",
    "\n",
    "\n",
    "### YOUR CODE HERE ###"
   ]
  },
  {
   "cell_type": "markdown",
   "metadata": {},
   "source": [
    "<b> Your Answer: </b>"
   ]
  },
  {
   "cell_type": "markdown",
   "metadata": {},
   "source": [
    "### 3.3"
   ]
  },
  {
   "cell_type": "markdown",
   "metadata": {},
   "source": [
    "Finally, we will simulate the response to a sinusoidal input current given by\n",
    "$$\n",
    "I_e(t) = 100 pA \\sin (2 \\pi f t),\n",
    "$$\n",
    "and run the model for different frequencies."
   ]
  },
  {
   "cell_type": "markdown",
   "metadata": {},
   "source": [
    "<div class=\"alert alert-block alert-success\">\n",
    "<b>Task:</b> Implement the sinusoidal input function.\n",
    "\n",
    "</div>"
   ]
  },
  {
   "cell_type": "code",
   "execution_count": 5,
   "metadata": {},
   "outputs": [],
   "source": [
    "def sinusoidal_input(time, frequency):\n",
    "    '''Implements the time-dependent sinusoidal input current I_e.\n",
    "    \n",
    "    Args:\n",
    "        time: Time as float\n",
    "        frequency: Frequency parameter f\n",
    "         \n",
    "    Returns:\n",
    "        Sinusoidal input current at the given time as float     \n",
    "    '''\n",
    "    \n",
    "    ### YOUR CODE HERE ###\n",
    "    \n",
    "    \n",
    "    ### YOUR CODE HERE ###"
   ]
  },
  {
   "cell_type": "markdown",
   "metadata": {},
   "source": [
    "<div class=\"alert alert-block alert-success\">\n",
    "<b>Task:</b> Write a function to simulate the membrane response to the sinusoidal input by approximating $V(\\cdot )$.\n",
    "</div>"
   ]
  },
  {
   "cell_type": "code",
   "execution_count": 6,
   "metadata": {},
   "outputs": [],
   "source": [
    "def simulate_sinusoidal_function(delta_t, t_start, t_stop, Em, L, d, Rm, Cm, frequency):    \n",
    "    '''Solves the single-compartment equation using Euler approximation.\n",
    "    \n",
    "    Args:\n",
    "        delta_t: Time step size for Euler\n",
    "        t_start: Start time of the simulation\n",
    "        t_stop: End time of the simulation\n",
    "        Em, L, d, Rm, Cm: As before. Output of convert_parameters() function\n",
    "        frequency: The frequency f of the sinusoidal input\n",
    "         \n",
    "         \n",
    "    Returns:\n",
    "        t: Grid points on which the solution is evaluated\n",
    "        v: The approximated membrane potential evaluated at the grid points     \n",
    "    '''\n",
    "    \n",
    "    ### YOUR CODE HERE ###\n",
    "    \n",
    "        \n",
    "    ### YOUR CODE HERE ###\n",
    "    \n",
    "    return t, v"
   ]
  },
  {
   "cell_type": "code",
   "execution_count": null,
   "metadata": {},
   "outputs": [],
   "source": [
    "### Feel free to test your function for different values of f (freq)\n",
    "\n",
    "### YOUR CODE HERE\n",
    "\n",
    "freq = _\n",
    "\n",
    "### YOUR CODE HERE\n",
    "\n",
    "t, v = simulate_sinusoidal_function(delta_t, t_start, 10, Em, L, d, Rm, Cm, frequency=freq)\n",
    "plt.plot(t, v)"
   ]
  },
  {
   "cell_type": "markdown",
   "metadata": {},
   "source": [
    "When the system has converged in your simulation, plot the log of the amplitude of the solution against the log of the input frequency. Use the frequencies\n",
    "    \n",
    "- $f_1 = 0.5$Hz\n",
    "- $f_2 = 1$Hz \n",
    "- $f_3 = 2$Hz \n",
    "- $f_4 = 8$Hz \n",
    "- $f_5 = 100$Hz \n",
    "- $f_6 = 1000$Hz "
   ]
  },
  {
   "cell_type": "code",
   "execution_count": null,
   "metadata": {},
   "outputs": [],
   "source": [
    "### YOUR CODE HERE ###\n",
    "\n",
    "    \n",
    "### YOUR CODE HERE ###"
   ]
  }
 ],
 "metadata": {
  "kernelspec": {
   "display_name": "Python 3",
   "language": "python",
   "name": "python3"
  },
  "language_info": {
   "codemirror_mode": {
    "name": "ipython",
    "version": 3
   },
   "file_extension": ".py",
   "mimetype": "text/x-python",
   "name": "python",
   "nbconvert_exporter": "python",
   "pygments_lexer": "ipython3",
   "version": "3.8.3"
  }
 },
 "nbformat": 4,
 "nbformat_minor": 5
}
