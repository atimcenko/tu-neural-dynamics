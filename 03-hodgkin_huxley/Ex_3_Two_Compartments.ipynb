{
 "cells": [
  {
   "cell_type": "markdown",
   "metadata": {},
   "source": [
    "# Programming Exercise 3A: Two-Compartment Model\n",
    "\n",
    "In this exercise, we will study a model consisting of only two compartments. This reduction makes it easier to understand the role that the compartmental-model parameters play. Since we have already implemented an N-compartment model on the last exercise sheet, we can reuse most of the code.\n",
    "\n",
    "In particular, consider the following circuit:\n",
    "![](rc_circuit_compartments_small.png)\n",
    "The equations governing the system are given by\n",
    "$$\n",
    "C_m \\frac{\\text{d} V_1}{\\text{d} t} + \\frac{V_1 - E_m}{R_m} - I_e = \\frac{V_2 - V_1}{R_a},\n",
    "$$\n",
    "and\n",
    "$$\n",
    "C_m \\frac{\\text{d} V_2}{\\text{d} t} + \\frac{V_2 - E_m}{R_m} = \\frac{V_1 - V_2}{R_a}.\n",
    "$$\n",
    "We can easily verify that we can treat the system using our code from the last exercise sheet by appending a sealed-end compartment to both sides of our system; the sealed ends have the same voltage as their respective neighbours, meaning that there is no axial current between the \"inner\" compartments and the end compartments. Then the two inner compartments fulfill the differential equations given above.\n",
    "\n",
    "Hence we end up with a model consisting of four compartments, where $V(0,t) = V(1,t)$ and $V(3,t) = V(2,t)$, and the compartments with indices $1$ and $2$ are \"surrounded compartments\"."
   ]
  },
  {
   "cell_type": "markdown",
   "metadata": {},
   "source": [
    "For inital parameter values, set $E_m = 0V$, $C_m = 75pF$, $R_m = 265M\\Omega$, and $R_a = 7M\\Omega$. Let $N$ denote the number of compartments."
   ]
  },
  {
   "cell_type": "markdown",
   "metadata": {},
   "source": [
    "<div class=\"alert alert-block alert-success\">\n",
    "<b>Task:</b> Initialize the model parameters.\n",
    "</div>"
   ]
  },
  {
   "cell_type": "code",
   "execution_count": null,
   "metadata": {},
   "outputs": [],
   "source": [
    "# Import the standard libraries\n",
    "import numpy as np\n",
    "import matplotlib.pyplot as plt\n",
    "\n",
    "### YOUR CODE HERE ###\n",
    "\n",
    "\n",
    "### YOUR CODE HERE ###"
   ]
  },
  {
   "cell_type": "markdown",
   "metadata": {},
   "source": [
    "On the last exercise sheet, we already wrote a function that performs a step of an Euler approximation for a surrounded compartment in a multi-compartment model. In case you had trouble with the exercise, the function is pre-implemented here. Feel free to use your own function from last week instead!"
   ]
  },
  {
   "cell_type": "code",
   "execution_count": null,
   "metadata": {},
   "outputs": [],
   "source": [
    "def surrounded_compartment_step(V, I_e, compartment_index, E_m, C_m, R_m, R_a, delta_t):\n",
    "    '''Implements a step of the Euler approximation for a non-boundary compartment\n",
    "\n",
    "    Args:\n",
    "        V: np.array of length N containing the voltages before taking the Euler step\n",
    "        I_e: np.array of length N containg the input current before taking the Euler step\n",
    "        compartment_index: Compartment to be updated in the step\n",
    "        E_m: Resting potential\n",
    "        R_m: Membrane resistance\n",
    "        R_a: Axial resistance\n",
    "        delta_t: Time constant for the Euler approximation\n",
    "\n",
    "    Returns:\n",
    "        np.array of length N containing the voltages after updating compartment compartment_index\n",
    "    '''\n",
    "\n",
    "    V_here = V[compartment_index]\n",
    "    V_left = V[compartment_index - 1]\n",
    "    V_right = V[compartment_index + 1]\n",
    "    dV_dt = ((E_m - V_here) / R_m + (V_right - V_here) / R_a + (V_left - V_here) / R_a + I_e[compartment_index]) / C_m\n",
    "    # Compute the voltage after the step\n",
    "    V[compartment_index] = V_here + delta_t * dV_dt\n",
    "\n",
    "    return V"
   ]
  },
  {
   "cell_type": "markdown",
   "metadata": {},
   "source": [
    "First, let's study the voltage response to a rectangular input current defined by\n",
    "$$\n",
    "I_e(t) = \n",
    "\\begin{cases}\n",
    "0, & (t < t_e) \\vee (t_s \\leq t) \\vee (j\\neq j_e) \\\\\n",
    "I_0, & (t_e \\leq t < t_s) \\wedge (j = j_e)\n",
    "\\end{cases},\n",
    "$$\n",
    "with $t_e = 0.4s$, $t_s = 0.44s$, $I_0 = -100pA$ and $j_e = 1$.\n",
    "We use $0$ as starting index, so compartment $1$ will be the $2$nd one. We assume that at $t=0$, both compartments are at resting potential (i.e. V(0) = 0)."
   ]
  },
  {
   "cell_type": "markdown",
   "metadata": {},
   "source": [
    "<div class=\"alert alert-block alert-success\">\n",
    "<b>Task:</b> Complete the function rectangle_input() to implement the input function above. Then implement the necessary parameters.\n",
    "</div>"
   ]
  },
  {
   "cell_type": "code",
   "execution_count": null,
   "metadata": {
    "pycharm": {
     "name": "#%%\n"
    }
   },
   "outputs": [],
   "source": [
    "def rectangle_input(t, N, input_compartment, I_0):\n",
    "    '''Implements the step-input function.\n",
    "\n",
    "    Args:\n",
    "        t: Time in miliseconds\n",
    "        N: Number of compartments in the model\n",
    "        input_compartment: Compartment in which the current is injected\n",
    "        I_0: The value of the input current\n",
    "\n",
    "    Returns:\n",
    "        The input current at a given time as a np.array of length N\n",
    "    '''\n",
    "\n",
    "    ### YOUR CODE HERE ###\n",
    "\n",
    "\n",
    "    ### YOUR CODE HERE ###"
   ]
  },
  {
   "cell_type": "code",
   "execution_count": null,
   "metadata": {
    "pycharm": {
     "name": "#%%\n"
    }
   },
   "outputs": [],
   "source": [
    "t_start, t_stop, delta_t = 0., 0.6, 0.0001 # s\n",
    "\n",
    "### YOUR CODE HERE ###\n",
    "\n",
    "\n",
    "### YOUR CODE HERE ###\n",
    "\n",
    "time_axis = np.arange(t_start, t_stop, delta_t)"
   ]
  },
  {
   "cell_type": "markdown",
   "metadata": {},
   "source": [
    "<div class=\"alert alert-block alert-success\">\n",
    "<b>Task:</b> Run the simulation of the model to approximate the voltage values over time in each compartment. Use the time parameters given in the cell above. Run the simulation three times, with differing values of $R_a$. In particular, use the values $R_{a,1} = 7M\\Omega$, $R_{a,2} = 265M\\Omega$, $R_{a,3} = 30G\\Omega$. For each run, plot the voltage over time in compartments $1$ and $2$.\n",
    "    \n",
    "<i>Hint:</i> The loop should be similar to the one from the last exercise sheet. The first thing you should do within each iteration over time is setting the voltage values in compartments $0$ and $3$. Then you can call your surrounded_compartment_step() function on the compartments of interest. \n",
    "</div>"
   ]
  },
  {
   "cell_type": "code",
   "execution_count": null,
   "metadata": {
    "pycharm": {
     "name": "#%%\n"
    }
   },
   "outputs": [],
   "source": [
    "### YOUR CODE HERE\n",
    "\n",
    "\n",
    "### YOUR CODE HERE ###"
   ]
  },
  {
   "cell_type": "code",
   "execution_count": null,
   "metadata": {
    "pycharm": {
     "name": "#%%\n"
    }
   },
   "outputs": [],
   "source": [
    "### YOUR CODE HERE\n",
    "\n",
    "\n",
    "### YOUR CODE HERE ###"
   ]
  },
  {
   "cell_type": "markdown",
   "metadata": {},
   "source": [
    "<div class=\"alert alert-block alert-success\">\n",
    "<b>Task:</b> Briefly summarize the quantitative findings. How do you explain the results?\n",
    "</div>"
   ]
  },
  {
   "cell_type": "markdown",
   "metadata": {},
   "source": [
    "<b> Your Answer: </b>"
   ]
  },
  {
   "cell_type": "markdown",
   "metadata": {},
   "source": [
    "Finally, let's simulate the response to a sinusoidal input current\n",
    "\n",
    "$$\n",
    "I_e (t) = \n",
    "\\begin{cases}\n",
    "0, &  (j\\neq j_e) \\\\\n",
    "100pA  \\sin(2\\pi f t), &  (j = j_e)\n",
    "\\end{cases}.\n",
    "$$\n",
    "\n",
    "for $R_a = 300M\\Omega$, $j_e = 1$ and different frequencies $f$. For $C_m$, $R_m$ and $E_m$, we use the same values as before."
   ]
  },
  {
   "cell_type": "markdown",
   "metadata": {},
   "source": [
    "<div class=\"alert alert-block alert-success\">\n",
    "<b>Task:</b> Implement the sinusoidal input.\n",
    "</div>"
   ]
  },
  {
   "cell_type": "code",
   "execution_count": null,
   "metadata": {},
   "outputs": [],
   "source": [
    "def sinusoidal_input(t, N, input_compartment, f):\n",
    "    '''Implements the sinusoidal input function.\n",
    "\n",
    "    Args:\n",
    "        t: Time in miliseconds\n",
    "        N: Number of compartments in the model\n",
    "        input_compartment: Compartment in which the current is injected\n",
    "        f: The frequency\n",
    "\n",
    "    Returns:\n",
    "        The input current at a given time as a np.array of length N\n",
    "    '''\n",
    "\n",
    "    ### YOUR CODE HERE ###\n",
    "\n",
    "    \n",
    "    ### YOUR CODE HERE ###"
   ]
  },
  {
   "cell_type": "markdown",
   "metadata": {},
   "source": [
    "<div class=\"alert alert-block alert-success\">\n",
    "<b>Task:</b> Simulate the time-dependent voltage in the compartments 1 and 2 for the frequencies\n",
    "<ul>\n",
    "  <li>1Hz</li>\n",
    "  <li>2Hz</li>\n",
    "  <li>5Hz</li>\n",
    "  <li>10Hz</li>\n",
    "  <li>20Hz</li>\n",
    "  <li>50Hz</li>\n",
    "  <li>100Hz</li>\n",
    "  <li>200Hz</li>\n",
    "  <li>500Hz</li>\n",
    "  <li>1000Hz</li>\n",
    "  <li>2000Hz.</li>\n",
    "</ul>\n",
    "Plot the voltage-response against time for $f=50$Hz.\n",
    "    \n",
    "After the system has settled into a sinusoidal response (e.g. $t > 1s$), plot the logarithm of the voltage amplitude (for both compartments 1 and 2) against the logarithm of the input frequency (Bode diagram).\n",
    "   \n",
    "</div>"
   ]
  },
  {
   "cell_type": "code",
   "execution_count": null,
   "metadata": {},
   "outputs": [],
   "source": [
    "frequencies = [1, 2, 5, 10, 20, 50, 100, 200, 500, 1000, 2000]\n",
    "t_start, t_stop, delta_t = 0., 1.5, 0.0001 # s\n",
    "time_axis = np.arange(t_start, t_stop, delta_t)\n",
    "R_a = 300e6 # Ohm\n",
    "\n",
    "solution_over_time = np.zeros((len(frequencies), len(time_axis), N))\n",
    "\n",
    "\n",
    "### YOUR CODE HERE\n",
    "\n",
    "\n",
    "\n",
    "### YOUR CODE HERE ###"
   ]
  },
  {
   "cell_type": "markdown",
   "metadata": {},
   "source": [
    "<div class=\"alert alert-block alert-success\">\n",
    "<b>Task:</b> How do you interpret the Bode diagram?\n",
    "</div>"
   ]
  },
  {
   "cell_type": "markdown",
   "metadata": {},
   "source": [
    "<b> Your Answer: </b> "
   ]
  }
 ],
 "metadata": {
  "kernelspec": {
   "display_name": "Python 3 (ipykernel)",
   "language": "python",
   "name": "python3"
  },
  "language_info": {
   "codemirror_mode": {
    "name": "ipython",
    "version": 3
   },
   "file_extension": ".py",
   "mimetype": "text/x-python",
   "name": "python",
   "nbconvert_exporter": "python",
   "pygments_lexer": "ipython3",
   "version": "3.9.12"
  }
 },
 "nbformat": 4,
 "nbformat_minor": 4
}
