{
 "cells": [
  {
   "cell_type": "markdown",
   "metadata": {},
   "source": [
    "# Programming Exercise 3B: Hodgkin-Huxley Model\n",
    "\n",
    "In this exercise, we implement the Hodgkin-Huxley model that we discussed in the lecture. The model is governed by the following set of equations:\n",
    "\n",
    "$$\n",
    "\\begin{align}\n",
    "\tC_m \\frac{\\operatorname{d}V}{\\operatorname{d}t}\n",
    "\t\t&=  I_e\\left(t\\right)  -\\bar{g}_L \\left( V -E_L\\right) -\\bar{g}_\\text{Na} m^3 h \\left( V -E_\\text{Na}\\right) \t-\\bar{g}_\\text{K} n^4 \\left( V -E_\\text{K}\\right)\n",
    "\t\\label{eq:HHModel}, \\\\\n",
    "\t\\frac{\\operatorname{d}m}{\\operatorname{d}t}\t\n",
    "\t&= \\alpha_m \\left( 1-m\\right) -\\beta_m m,\\\\\n",
    "\t\\alpha_m\n",
    "\t&=\\left\\{\n",
    "\t\t\\begin{array}{l l}\n",
    "    \t\t\t0.1 \\frac{ V -25 }{1-\\exp \\left( - \\frac{ V-25}{10} \\right)},  & \\quad V \\neq 25mV\\\\\n",
    "    \t\t\t1, & \\quad V = 25mV,\\\\\n",
    "  \t\t\\end{array}\n",
    "    \t\\right. \\\\    \t\n",
    "\t\\beta_m\n",
    "\t&= 4 \\exp \\left( - \\frac{V}{18}\\right), \\\\\n",
    "\t \\frac{\\operatorname{d}h}{\\operatorname{d}t}\t\n",
    "\t &= \\alpha_h \\left( 1-h\\right) -\\beta_h h, \\\\\n",
    " \\alpha_h\n",
    " \t&=  0.07 \\exp \\left( -\\frac{V}{20} \\right), \\\\\n",
    "\t  \\beta_h\n",
    "\t  &= \\frac{1}{1+ \\exp \\left( -\\frac{V-30}{10}\\right) },\t\t\\\\\n",
    "\t\\frac{\\operatorname{d}n}{\\operatorname{d}t}\t\n",
    "\t&= \\alpha_n \\left( 1-n\\right) -\\beta_n n, \\\\\n",
    "\t\\alpha_n \t&=\\left\\{\n",
    "\t\t\\begin{array}{l l}\n",
    "    \t\t\t0.01 \\frac{ V -10}{1-\\exp \\left( - \\frac{ V-10}{10} \\right)},  & \\quad V \\neq 10mV\\\\\n",
    "    \t\t\t0.1, & \\quad V = 10mV,\\\\\n",
    "  \t\t\\end{array}\n",
    "    \t\\right. \\\\\n",
    "\t \\quad\t\\beta_n\n",
    "\t &= 0.125 \\exp \\left( - \\frac{V}{80}\\right).\n",
    "\\end{align}\n",
    "$$"
   ]
  },
  {
   "cell_type": "markdown",
   "metadata": {},
   "source": [
    "We assume the electrical properties\n",
    "<ul>\n",
    "<li>$C_m = 1 \\mu F $, membrane capacitance,</li>\n",
    "\n",
    "<li>$E_\\text{Na} = 115 mV$, sodium equilibrium potential,</li>\n",
    "\n",
    "<li>$E_\\text{K} = -12 mV$, potassium equilibrium potential,</li>\n",
    "\n",
    "<li>$E_\\text{L} = 10.6 mV$, leak equilibrium potential,</li>\n",
    "\n",
    "<li>$V\\left(0\\right)=0mV$, (starting) membrane resting potential,</li>\n",
    "\n",
    "<li>$\\bar{g}_\\text{Na} = 120  mS$, maximum conductance for sodium channel,</li>\n",
    "\n",
    "<li>$\\bar{g}_\\text{K} = 36  mS$, maximum conductance for potassium channel,</li>\n",
    "\n",
    "<li>$\\bar{g}_\\text{L} = 0.3  mS$, maximum leak conductance.</li>\n",
    "</ul>\n",
    "\n",
    "**When implementing the model, we drop all units.** This will simplify the implementation and remove a possible source of bugs. This also pertains to the equations above; the voltage is measured in mV in all equations in this notebook."
   ]
  },
  {
   "cell_type": "markdown",
   "metadata": {},
   "source": [
    "<div class=\"alert alert-block alert-success\">\n",
    "<b>Task:</b> Implement the electrical parameters.\n",
    "</div>"
   ]
  },
  {
   "cell_type": "code",
   "execution_count": 1,
   "metadata": {},
   "outputs": [],
   "source": [
    "import numpy as np\n",
    "import matplotlib.pyplot as plt\n",
    "\n",
    "### YOUR CODE HERE ###\n",
    "\n",
    "C_m = 1 #uF\n",
    "E_Na = 115 #mV\n",
    "E_K = None #mV\n",
    "E_L = None #mV\n",
    "V_0 = None #mV\n",
    "g_Na = None #mS\n",
    "g_K = None #mS\n",
    "g_L = None #mS\n",
    "\n",
    "### YOUR CODE HERE ###"
   ]
  },
  {
   "cell_type": "markdown",
   "metadata": {},
   "source": [
    "The equations above can be interpreted hierachically. The values $\\alpha$ and $\\beta$ are needed to compute the gating variables and the gating variables are needed to compute the derivative of the membrane potential.\n",
    "\n",
    "To implement the many little functions, we will use Python's lambda calculus. If you are unfamiliar, here is a short introduction: https://www.w3schools.com/python/python_lambda.asp. In our case, it simply let's us write our functions as one-liners."
   ]
  },
  {
   "cell_type": "markdown",
   "metadata": {},
   "source": [
    "<div class=\"alert alert-block alert-success\">\n",
    "<b>Task:</b> Write the remaining lambda functions necessary to compute the derivatives of all gating variables.\n",
    "</div>"
   ]
  },
  {
   "cell_type": "code",
   "execution_count": 2,
   "metadata": {},
   "outputs": [],
   "source": [
    "### YOUR CODE HERE ###\n",
    "\n",
    "alpha_m = lambda V : 1 if V == 25 else 0.1 * (V - 25) / (1 - np.exp(- (V - 25) / 10))\n",
    "beta_m = lambda V : 4 * np.exp(- V / 18)\n",
    "dm_dt = lambda m, V : alpha_m(V) * (1 - m) - beta_m(V) * m\n",
    "\n",
    "alpha_h = None\n",
    "beta_h = None\n",
    "dh_dt = None\n",
    "\n",
    "alpha_n = None\n",
    "beta_n = None\n",
    "dn_dt = None\n",
    "\n",
    "### YOUR CODE HERE ###"
   ]
  },
  {
   "cell_type": "markdown",
   "metadata": {},
   "source": [
    "Assume that, at the beginning of the simulation, the voltage is given by $V_0 = E_m = 0mV$. In the resting state, we do not want the gating variables to change; thus, we need to start our model not only at resting potential $V_0$, but also at the steady-state values for the gating variables $m$, $h$, and $n$ at potential $V_0$. We saw in the lecture, that the steady-state values for a given voltage $V$ are\n",
    "$$\n",
    "x(\\infty) = \\frac{\\alpha_x(V)}{\\alpha_x(V) + \\beta_x(V)},\n",
    "$$\n",
    "where $x \\in \\{ m,h,n \\}$."
   ]
  },
  {
   "cell_type": "markdown",
   "metadata": {},
   "source": [
    "<div class=\"alert alert-block alert-success\">\n",
    "<b>Task:</b> Write lambda functions to compute the steady-state solution for all gating variables as a function of V.\n",
    "</div>"
   ]
  },
  {
   "cell_type": "code",
   "execution_count": 3,
   "metadata": {
    "pycharm": {
     "name": "#%%\n"
    }
   },
   "outputs": [],
   "source": [
    "### YOUR CODE HERE ###\n",
    "\n",
    "\n",
    "### YOUR CODE HERE ###"
   ]
  },
  {
   "cell_type": "markdown",
   "metadata": {},
   "source": [
    "At this point, we have implemented all model equations except for the voltage's derivative. Let's implement it for given values of $I_e$, $m$, $h$ and $n$."
   ]
  },
  {
   "cell_type": "markdown",
   "metadata": {},
   "source": [
    "<div class=\"alert alert-block alert-success\">\n",
    "<b>Task:</b> Complete the function dV_dt() to compute the derivative of the voltage.\n",
    "</div>"
   ]
  },
  {
   "cell_type": "code",
   "execution_count": 4,
   "metadata": {
    "pycharm": {
     "name": "#%%\n"
    }
   },
   "outputs": [],
   "source": [
    "def dV_dt(V, I_e, C_m, E_L, E_Na, E_K, g_L, g_Na, g_K, m, h, n):\n",
    "    ''' Implements the voltage derivative.\n",
    "    Args:\n",
    "        V: Current Membrane potential in mV\n",
    "        I_e: Current current input in uA\n",
    "        C_m: Membrane capacitance in uF\n",
    "        E_L: Leak equilibrium potential in mV\n",
    "        E_Na: Na equilibrium potential in mV\n",
    "        E_K: K equilibrium potential in mV\n",
    "        g_L: Maximum leak conductance in mS\n",
    "        g_Na:Maximum Na conductance in mS\n",
    "        g_K: Maximum K conductance in mS\n",
    "        m: Current value for m\n",
    "        h: Current value for h\n",
    "        n: Current value for n\n",
    "\n",
    "    Returns: Derivative of the voltage\n",
    "    '''\n",
    "    \n",
    "    ### YOUR CODE HERE ###\n",
    "\n",
    "\n",
    "    ### YOUR CODE HERE ###"
   ]
  },
  {
   "cell_type": "markdown",
   "metadata": {},
   "source": [
    "Consider as input a rectangle pulse current of the form\n",
    "$$\n",
    "I_e(t) = \n",
    "\\begin{cases}\n",
    "0, & (t < t_e) \\vee (t_s \\leq t) \\\\\n",
    "I_0, & (t_e \\leq t < t_s)\n",
    "\\end{cases}.\n",
    "$$"
   ]
  },
  {
   "cell_type": "markdown",
   "metadata": {},
   "source": [
    "<div class=\"alert alert-block alert-success\">\n",
    "<b>Task:</b> Complete the function rectangular_input() to implement the input current $I_e(\\cdot )$.\n",
    "</div>"
   ]
  },
  {
   "cell_type": "code",
   "execution_count": 5,
   "metadata": {
    "pycharm": {
     "name": "#%%\n"
    }
   },
   "outputs": [],
   "source": [
    "def rectangular_input(t, I_0, t_e, t_s):\n",
    "    '''Implements the rectangle-input function.\n",
    "    Args:\n",
    "        t: Time in miliseconds\n",
    "        I_0: The value of the input current\n",
    "        t_e: start time in miliseconds\n",
    "        t_e: end time in miliseconds\n",
    "\n",
    "    Returns:\n",
    "        The input current at a given time\n",
    "    '''\n",
    "    \n",
    "    ### YOUR CODE HERE ###\n",
    "\n",
    "    \n",
    "    ### YOUR CODE HERE ###\n"
   ]
  },
  {
   "cell_type": "markdown",
   "metadata": {},
   "source": [
    "We have now implemented all component functions. In order to simulate the HH model we use Euler's method as in Exercise 2."
   ]
  },
  {
   "cell_type": "markdown",
   "metadata": {},
   "source": [
    "<div class=\"alert alert-block alert-success\">\n",
    "<b>Task:</b> Complete the function simulate_HH() so that it returns the time-dependent membrane potential for a given time interval.\n",
    "    \n",
    "<i>Hint:</i> Start your model at $V_0$ and set the gating variables to the corresponding steady-state values. At each time step, update your values for the gating variables and the voltage.\n",
    "</div>"
   ]
  },
  {
   "cell_type": "code",
   "execution_count": 6,
   "metadata": {
    "pycharm": {
     "name": "#%%\n"
    }
   },
   "outputs": [],
   "source": [
    "def simulate_HH(V_0, input_current_fun, input_current_params, t_start, t_stop, delta_t,\n",
    "                C_m, E_L, E_Na, E_K, g_L, g_Na, g_K):\n",
    "    ''' Runs the HH simulation. The function should return the time axis over which the simulation was run, and the\n",
    "    voltage at each of the time steps.\n",
    "    Args:\n",
    "        V_0: Starting (resting) voltage\n",
    "        input_current_fun: Name of the input current function\n",
    "        input_current_params: List of arguments that the current input function takes after t\n",
    "        t_start: Start time of the simulation in ms\n",
    "        t_stop: End time of the simulation in ms\n",
    "        delta_t: Euler step length in ms\n",
    "        C_m: Membrane capacitance in uF\n",
    "        E_L: Leak equilibrium potential in mV\n",
    "        E_Na: Na equilibrium potential in mV\n",
    "        E_K: K equilibrium potential in mV\n",
    "        g_L: Maximum leak conductance in mS\n",
    "        g_Na:Maximum Na conductance in mS\n",
    "        g_K: Maximum K conductance in mS\n",
    "\n",
    "    Returns: time axis, voltage axis in ms and mV\n",
    "    '''\n",
    "    \n",
    "    ### YOUR CODE HERE ###\n",
    "    \n",
    "    time_axis = np.arange(t_start, t_stop, delta_t)\n",
    "    sol = np.zeros((len(time_axis), 5))\n",
    "    # sol is the solution in the form [V, m, h, n, I_e]\n",
    "    # Feel free to delete the code and start from scratch\n",
    "    sol[0,:] = V_0, m_inf(V_0), h_inf(V_0), n_inf(V_0), input_current_fun(t_start, *input_current_params)\n",
    "    \n",
    "    \n",
    "    ### YOUR CODE HERE ###"
   ]
  },
  {
   "cell_type": "markdown",
   "metadata": {},
   "source": [
    "Let's set the values of the input-current parameters as $t_e = 50ms$ and $t_s = 300ms$. Then we run the simulation for $500ms$ for different values of the input current $I_0$, namely\n",
    "<ul>\n",
    "  <li>$0\\mu A$,</li>\n",
    "  <li>$3\\mu A$,</li>\n",
    "  <li>$6\\mu A$,</li>\n",
    "  <li>$8\\mu A$.</li>\n",
    "\n",
    "</ul>"
   ]
  },
  {
   "cell_type": "code",
   "execution_count": 7,
   "metadata": {
    "pycharm": {
     "name": "#%%\n"
    }
   },
   "outputs": [],
   "source": [
    "t_start, t_stop, delta_t = 0, 500, 0.025 #ms\n",
    "t_e, t_s = 50, 300 #ms\n",
    "I_0_list = [0, 3, 6, 8] #muA"
   ]
  },
  {
   "cell_type": "markdown",
   "metadata": {},
   "source": [
    "<div class=\"alert alert-block alert-success\">\n",
    "<b>Task:</b> Run the simulation for the given values, and plot the voltage against time.\n",
    "</div>"
   ]
  },
  {
   "cell_type": "code",
   "execution_count": 8,
   "metadata": {
    "pycharm": {
     "name": "#%%\n"
    }
   },
   "outputs": [],
   "source": [
    "### YOUR CODE HERE ###\n",
    "\n",
    "\n",
    "### YOUR CODE HERE ###"
   ]
  },
  {
   "cell_type": "markdown",
   "metadata": {},
   "source": [
    "<div class=\"alert alert-block alert-success\">\n",
    "<b>Task:</b> Summarize the findings.\n",
    "</div>"
   ]
  },
  {
   "cell_type": "markdown",
   "metadata": {},
   "source": [
    "**Your Answer:**"
   ]
  },
  {
   "cell_type": "markdown",
   "metadata": {},
   "source": [
    "Finally, it is interesting to study how the firing rate of the neuron changes with input current."
   ]
  },
  {
   "cell_type": "markdown",
   "metadata": {},
   "source": [
    "<div class=\"alert alert-block alert-success\">\n",
    "<b>Task:</b> Complete the function compute_firing_rate() to compute the number of spikes per unit time for a given solution of the HH model.\n",
    "\n",
    "<i>Hint:</i> Count the times the voltage passes a certain threshhold (only one direction!) and normalize across time. \n",
    "</div>"
   ]
  },
  {
   "cell_type": "code",
   "execution_count": 9,
   "metadata": {
    "pycharm": {
     "name": "#%%\n"
    }
   },
   "outputs": [],
   "source": [
    "def compute_firing_rate(V, delta_t, threshhold, t_1, t_2):\n",
    "    ''' Computes the firing rate of a solution of the HH model.\n",
    "    Args:\n",
    "        V: The voltages over time as output by simulate_HH()\n",
    "        delta_t: The time constant used in the simulation\n",
    "        threshhold: Threshhold value that defines a spike\n",
    "        t_1: Beginning of the time interval in which spikes are counted in ms\n",
    "        t_2: End of the time interval in which spikes are counted in ms\n",
    "\n",
    "    Returns: The firing rate\n",
    "    '''\n",
    "    \n",
    "    ### YOUR CODE HERE ###\n",
    "\n",
    "\n",
    "    ### YOUR CODE HERE ###"
   ]
  },
  {
   "cell_type": "markdown",
   "metadata": {},
   "source": [
    "<div class=\"alert alert-block alert-success\">\n",
    "<b>Task:</b> Compute the firing rate for input currents $I_0$ between $0\\mu A$ and $20\\mu A$ with steps of $0.5\\mu A$. Plot the firing rate against the input current. What do you observe?\n",
    "\n",
    "<i>Hint:</i> To make the plot a bit smoother, you can increase the time window in which current is injected, to get a more robust estimate of the fire rate. Keep all other parameters the same.\n",
    "\n",
    "</div>"
   ]
  },
  {
   "cell_type": "code",
   "execution_count": 10,
   "metadata": {
    "pycharm": {
     "name": "#%%\n"
    }
   },
   "outputs": [],
   "source": [
    "# Make the firing interval longer to smoothen the curve. _fr denotes the \"firing rate task\"\n",
    "t_s_fr = 500\n",
    "\n",
    "### YOUR CODE HERE\n",
    "\n",
    "\n",
    "### YOUR CODE HERE ###"
   ]
  },
  {
   "cell_type": "markdown",
   "metadata": {
    "pycharm": {
     "name": "#%%\n"
    }
   },
   "source": [
    "**Your Answer:**"
   ]
  }
 ],
 "metadata": {
  "kernelspec": {
   "display_name": "Python 3",
   "language": "python",
   "name": "python3"
  },
  "language_info": {
   "codemirror_mode": {
    "name": "ipython",
    "version": 3
   },
   "file_extension": ".py",
   "mimetype": "text/x-python",
   "name": "python",
   "nbconvert_exporter": "python",
   "pygments_lexer": "ipython3",
   "version": "3.8.3"
  }
 },
 "nbformat": 4,
 "nbformat_minor": 1
}
