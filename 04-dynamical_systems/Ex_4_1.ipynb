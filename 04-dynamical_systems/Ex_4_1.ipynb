{
 "cells": [
  {
   "cell_type": "markdown",
   "metadata": {},
   "source": [
    "# Sheet 4 Exercise 1: Linear Dynamical System (Credits: 6)\n",
    "Note: The notebook contains all problems parts of the first exercise. Please create the plots that are asked for in the notebook and type out the corresponding interpretations. All computations are supposed to be carried out by hand! You need to submit your computations to complete the exercise. You can either write your computations into the notebook using LaTeX syntax, or submit them on paper (scan)."
   ]
  },
  {
   "cell_type": "markdown",
   "metadata": {},
   "source": [
    "Assume a linear dynamical system of the form $\\dot{x}(t) = Ax(t)$ with\n",
    "$$\n",
    "A =\n",
    "\\begin{pmatrix}\n",
    "-0.5 & -0.5 & 0 \\\\\n",
    "-0.5 & -0.5 & 0 \\\\\n",
    "0 & 0 & 2\n",
    "\\end{pmatrix}.\n",
    "$$"
   ]
  },
  {
   "cell_type": "markdown",
   "metadata": {},
   "source": [
    "#### 1.1 \n",
    "Compute the eigenvalues and eigenvectors of $A$."
   ]
  },
  {
   "cell_type": "markdown",
   "metadata": {},
   "source": [
    "#### 1.2\n",
    "Compute and plot the solution of the system for the initial conditions\n",
    "$$\n",
    "x_{0,1} = \\begin{pmatrix} 1\\\\1\\\\0 \\end{pmatrix}, \\hspace{.5em}\n",
    "x_{0,2} = \\begin{pmatrix} 1\\\\0\\\\0 \\end{pmatrix}, \\hspace{.5em}\n",
    "x_{0,3} = \\begin{pmatrix} 0\\\\1\\\\0 \\end{pmatrix}, \\hspace{.5em}\n",
    "x_{0,4} = \\begin{pmatrix} 0\\\\0\\\\10^{-6} \\end{pmatrix}.\n",
    "$$\n",
    "Explain the behaviour observed in your plot using the eigenvalues and eigenvectors found in 1.1."
   ]
  },
  {
   "cell_type": "code",
   "execution_count": 27,
   "metadata": {},
   "outputs": [],
   "source": [
    "import numpy as np\n",
    "import matplotlib.pyplot as plt\n",
    "### CODE FOR YOUR PLOT HERE ###\n",
    "\n",
    "\n",
    "### CODE FOR YOUR PLOT HERE ###"
   ]
  },
  {
   "cell_type": "markdown",
   "metadata": {},
   "source": [
    "**Explanation:** "
   ]
  },
  {
   "cell_type": "markdown",
   "metadata": {},
   "source": [
    "#### 1.3\n",
    "Plot the vector field of the dynamical system as a quiver plot in the three projection planes defined respectively by\n",
    "1. $x_3 = 0$,\n",
    "2. $x_2 = 0$,\n",
    "3. $x_1 = 0$.\n",
    "\n",
    "Explain the solutions observed in 1.2 using the quiver plots.\n",
    "\n",
    "*Hint:* Matplotlib has a built-in function for quiver plots. An explanation of how it works can be found here: https://www.geeksforgeeks.org/quiver-plot-in-matplotlib/. For a given plane, take vectors $x$ from the plane and project the corresponding $\\dot{x}$ into the plane."
   ]
  },
  {
   "cell_type": "code",
   "execution_count": 1,
   "metadata": {},
   "outputs": [],
   "source": [
    "### CODE FOR YOUR PLOTS HERE ###\n",
    "\n",
    "\n",
    "### CODE FOR YOUR PLOTS HERE ###"
   ]
  },
  {
   "cell_type": "markdown",
   "metadata": {},
   "source": [
    "**Explanation:** "
   ]
  },
  {
   "cell_type": "markdown",
   "metadata": {},
   "source": [
    "#### 1.4\n",
    "Plot the vector field of the dynamics in the projection on the plane defined by\n",
    "$$\n",
    "e_1 = \\frac{1}{\\sqrt{2}}\\begin{pmatrix} 1\\\\-1\\\\0 \\end{pmatrix}, \\hspace{.5em}\n",
    "e_2 = \\begin{pmatrix} 0\\\\0\\\\1 \\end{pmatrix}.\n",
    "$$\n",
    "How can this result be explained?"
   ]
  },
  {
   "cell_type": "code",
   "execution_count": 2,
   "metadata": {},
   "outputs": [],
   "source": [
    "### CODE FOR YOUR PLOTS HERE ###\n",
    "\n",
    "\n",
    "### CODE FOR YOUR PLOTS HERE ###"
   ]
  },
  {
   "cell_type": "markdown",
   "metadata": {},
   "source": [
    "**Explanation:** "
   ]
  },
  {
   "cell_type": "markdown",
   "metadata": {},
   "source": [
    "#### 1.5\n",
    "Now consider a system with constant input, namely $\\dot{x}(t) = Ax(t) + s(t)$ where A is as before and $s(t) = (1,2,0)^T$. Compute the solution for the initial condition $(0,0,0)^T$. Plot the solution projected onto the planes defined by\n",
    "\n",
    "1. $x_3 = 0$,\n",
    "2. the plane from 1.4.\n",
    "\n",
    "What do you observe?"
   ]
  },
  {
   "cell_type": "code",
   "execution_count": 3,
   "metadata": {},
   "outputs": [],
   "source": [
    "### CODE FOR YOUR PLOTS HERE ###\n",
    "\n",
    "\n",
    "### CODE FOR YOUR PLOTS HERE ###"
   ]
  },
  {
   "cell_type": "markdown",
   "metadata": {},
   "source": [
    "**Explanation:** "
   ]
  },
  {
   "cell_type": "code",
   "execution_count": null,
   "metadata": {},
   "outputs": [],
   "source": []
  }
 ],
 "metadata": {
  "kernelspec": {
   "display_name": "Python 3",
   "language": "python",
   "name": "python3"
  },
  "language_info": {
   "codemirror_mode": {
    "name": "ipython",
    "version": 3
   },
   "file_extension": ".py",
   "mimetype": "text/x-python",
   "name": "python",
   "nbconvert_exporter": "python",
   "pygments_lexer": "ipython3",
   "version": "3.8.3"
  }
 },
 "nbformat": 4,
 "nbformat_minor": 5
}
