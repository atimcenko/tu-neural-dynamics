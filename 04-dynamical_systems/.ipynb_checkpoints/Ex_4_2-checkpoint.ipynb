{
 "cells": [
  {
   "cell_type": "markdown",
   "metadata": {},
   "source": [
    "# Sheet 4 Exercise 2: Nonlinear Decision Network (Credits: 6)\n",
    "Note: The notebook contains all problems parts of the second exercise. Please create the plots that are asked for in the notebook and type out the corresponding interpretations. All computations are supposed to be carried out by hand! You need to submit your computations to complete the exercise. You can either write your computations into the notebook using LaTeX syntax, or submit them on paper (scan)."
   ]
  },
  {
   "cell_type": "markdown",
   "metadata": {},
   "source": [
    "Consider a network consisting of two linear threshold neurons that inhibit each other. The inhibition strength is given by the parameter $c$, and the firing threshold by $\\theta$. Together with respective input signals $s_1$ and $s_2$, the model is governed by the nonlinear differential equations\n",
    "$$\n",
    "\\begin{align}\n",
    "\\tau \\dot{u}_1(t) = - u_1 (t) - c[u_2 - \\theta]_+ + s_1, \\\\\n",
    "\\tau \\dot{u}_2(t) = - u_2 (t) - c[u_1 - \\theta]_+ + s_2.\n",
    "\\end{align}\n",
    "$$\n",
    "The linear threshold function is defined by $[x]_+ := \\max\\{x,0\\}$."
   ]
  },
  {
   "cell_type": "markdown",
   "metadata": {},
   "source": [
    "#### 2.1\n",
    "Show that the network can be reparameterized in the standard form\n",
    "$$\n",
    "\\begin{align}\n",
    "\\dot{\\tilde{u}}_1(\\tilde{t}) = - \\tilde{u}_1 (\\tilde{t}) - c[\\tilde{u}_2(\\tilde{t})]_+ + \\tilde{s}_1, \\\\\n",
    "\\dot{\\tilde{u}}_2(\\tilde{t}) = - \\tilde{u}_2 (\\tilde{t}) - c[\\tilde{u}_1(\\tilde{t})]_+ + \\tilde{s}_2.\n",
    "\\end{align}\n",
    "$$\n",
    "\n",
    "In the following, we drop the tildes and simply consider the standard form. Assume $c = 2$ and $s_1 = s_2 = 1$ (as written in the standard form)."
   ]
  },
  {
   "cell_type": "markdown",
   "metadata": {},
   "source": [
    "#### 2.2\n",
    "The system can now be written as \n",
    "\n",
    "$$\n",
    "\\dot{u} = - u - c\\begin{pmatrix} 0&1\\\\1&0 \\end{pmatrix}[u]_+ + s.\n",
    "$$\n",
    "\n",
    "Plot the vector field of the dynamical system as a quiver plot. What does the plot tell you about the dynamics of the system?"
   ]
  },
  {
   "cell_type": "code",
   "execution_count": 1,
   "metadata": {},
   "outputs": [],
   "source": [
    "import numpy as np\n",
    "import matplotlib.pyplot as plt\n",
    "### CODE FOR YOUR PLOTS HERE ###\n",
    "\n",
    "\n",
    "### CODE FOR YOUR PLOTS HERE ###"
   ]
  },
  {
   "cell_type": "markdown",
   "metadata": {},
   "source": [
    "**Interpretation:** "
   ]
  },
  {
   "cell_type": "markdown",
   "metadata": {},
   "source": [
    "#### 2.3\n",
    "Note that inside any of the four quadrants, the linear threshold function is linear in both $u_1$ and $u_2$. Thus the whole system is piecewise linear. Compute the fixed points inside each quadrant by treating the system as a linear system restricted on each quadrant seperately, namely\n",
    "1. $u_1$, $u_2 > 0$,\n",
    "2. $u_1 > 0$, $u_2 \\leq 0$,\n",
    "3. $u_1 \\leq 0$, $u_2 > 0$,\n",
    "4. $u_1$, $u_2 \\leq 0$.\n",
    "\n",
    "Analyze the stability of the fixed points by computing the eigenvalues of the system matrix for each quadrant. How do the results relate to the plot observed in 2.2?\n",
    "\n",
    "*Hint:* Note that the dynamics within a given quadrant may have fixed points *outside* of this quadrant. Of course, these are not relevant for us as different quadrants are governed by different dynamics."
   ]
  },
  {
   "cell_type": "markdown",
   "metadata": {},
   "source": [
    "**Explanation:** "
   ]
  },
  {
   "cell_type": "markdown",
   "metadata": {},
   "source": [
    "#### 2.4\n",
    "Consider asymmetrical inputs, namely\n",
    "1. $s_1 = 1.5$, $s_2 = 1$,\n",
    "2. $s_1 = 1$, $s_2 = 1.5$.\n",
    "\n",
    "Using quiver and stream plots, analyze the (asymptotical) behaviour of the system for the initial conditions $(0,0)$, $(1,-1)$ and $(-1,1)$.\n",
    "\n",
    "How do you interpret the behaviour in terms of neural decision mechanisms based on inputs $s_1$ and $s_2$?\n",
    "\n",
    "*Hint:* The documentation for stream plots can be found here: https://matplotlib.org/3.1.1/api/_as_gen/matplotlib.pyplot.streamplot.html. They are created in the same way as quiver plots and conveniently visualize the system's flow."
   ]
  },
  {
   "cell_type": "code",
   "execution_count": 2,
   "metadata": {},
   "outputs": [],
   "source": [
    "### CODE FOR YOUR PLOTS HERE ###\n",
    "\n",
    "\n",
    "### CODE FOR YOUR PLOTS HERE ###"
   ]
  },
  {
   "cell_type": "code",
   "execution_count": 3,
   "metadata": {},
   "outputs": [],
   "source": [
    "### CODE FOR YOUR PLOTS HERE ###\n",
    "\n",
    "\n",
    "### CODE FOR YOUR PLOTS HERE ###"
   ]
  },
  {
   "cell_type": "markdown",
   "metadata": {},
   "source": [
    "**Interpretation:** "
   ]
  },
  {
   "cell_type": "markdown",
   "metadata": {},
   "source": [
    "#### 2.5\n",
    "Now set $s_1=s_2=1$, $c=-2$. Plot again the vector field. How you you explain the behaviour? In particular, how do you explain the result when taking into account the system matrix' eigenvalues?"
   ]
  },
  {
   "cell_type": "code",
   "execution_count": 4,
   "metadata": {},
   "outputs": [],
   "source": [
    "### CODE FOR YOUR PLOTS HERE ###\n",
    "\n",
    "\n",
    "### CODE FOR YOUR PLOTS HERE ###"
   ]
  },
  {
   "cell_type": "markdown",
   "metadata": {},
   "source": [
    "**Explanation:** "
   ]
  },
  {
   "cell_type": "markdown",
   "metadata": {},
   "source": [
    "#### 2.6\n",
    "Replace the linear threshold function $[\\cdot]_+$ by a step treshold function given by\n",
    "$$\n",
    "1(x) = \\begin{cases} 0, & x \\leq 0  \\\\ 1, & x > 0\\end{cases}.\n",
    "$$\n",
    "\n",
    "Set $s_1=s_2=1$. Analyze the fixed points and eigenvalues for each quadrant like in 2.3 for $c=2$ and $c=-2$.\n",
    "\n",
    "Plot the vector fields. Can you explain the difference in the the system's behaviour with a linear threshold and\n",
    "with a step threshold function?"
   ]
  },
  {
   "cell_type": "code",
   "execution_count": 5,
   "metadata": {},
   "outputs": [],
   "source": [
    "### CODE FOR YOUR PLOTS HERE ###\n",
    "\n",
    "\n",
    "### CODE FOR YOUR PLOTS HERE ###"
   ]
  },
  {
   "cell_type": "markdown",
   "metadata": {},
   "source": [
    "**Explanation:** "
   ]
  }
 ],
 "metadata": {
  "kernelspec": {
   "display_name": "Python 3",
   "language": "python",
   "name": "python3"
  },
  "language_info": {
   "codemirror_mode": {
    "name": "ipython",
    "version": 3
   },
   "file_extension": ".py",
   "mimetype": "text/x-python",
   "name": "python",
   "nbconvert_exporter": "python",
   "pygments_lexer": "ipython3",
   "version": "3.8.3"
  }
 },
 "nbformat": 4,
 "nbformat_minor": 5
}
