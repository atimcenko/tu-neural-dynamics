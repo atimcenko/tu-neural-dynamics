{
 "cells": [
  {
   "cell_type": "markdown",
   "metadata": {},
   "source": [
    "# Programming Exercise 2:  Multi Compartment Model\n",
    "\n",
    "In this week's pen-and-paper exercises, we dealt with spatially extended neural structures which can't be modelled accurately by a \"point neuron\". In particular, we computed a solution for the cable equation; this equation is usually derived as the space-continuous limit of a spatially discrete model consisting of multiple compartments. The multi compartment model can be visualized like this:\n",
    "\n",
    "![](rc_circuit_compartments.png)\n",
    "\n",
    "In this programming exercise, we are going to simulate the time course of the voltage response of the multi compartment model to an input current. "
   ]
  },
  {
   "cell_type": "markdown",
   "metadata": {},
   "source": [
    "The multi compartment model has the same parameters as the cable model: A membrane (intracellular) resistance and capacitance $R_m$ and $C_m$, a membrane resting potential $E_m$ (denoted by $E_L$ in the figure), and an axial (intracellular) resistance $R_a$. We use the following parameters for our simulation:\n",
    "- membrane equilibrium potential: $E_m = 0V$\n",
    "- Membrane resistance: $R_m = 1.59G\\Omega$\n",
    "- Membrance capacitance: $C_m = 62.8pF$\n",
    "- Axial resistance: $R_a = 0.0318G\\Omega$.\n",
    "\n",
    "Please note that we follow the naming convention from the lecture, with capital letters denoting absolute (unnormalized) values.\n",
    "\n",
    "Further, we want our model to consist of a total of 50 compartments."
   ]
  },
  {
   "cell_type": "markdown",
   "metadata": {},
   "source": [
    "### 1.1"
   ]
  },
  {
   "cell_type": "markdown",
   "metadata": {},
   "source": [
    "<div class=\"alert alert-block alert-success\">\n",
    "<b>Task:</b> Implement the model parameters.\n",
    "\n",
    "Remember to only alter code between the ### YOUR CODE HERE ### statements! The parameters needed for the simulation are already implemented\n",
    "</div>"
   ]
  },
  {
   "cell_type": "code",
   "execution_count": 2,
   "metadata": {},
   "outputs": [],
   "source": [
    "# Import the standard libraries\n",
    "import numpy as np\n",
    "import matplotlib.pyplot as plt\n",
    "# Make plot interactive\n",
    "%matplotlib notebook \n",
    "\n",
    "### YOUR CODE HERE ###\n",
    "\n",
    "E_m = None\n",
    "C_m = None\n",
    "R_m = None\n",
    "R_a = None\n",
    "\n",
    "N = None\n",
    "\n",
    "### YOUR CODE HERE ###"
   ]
  },
  {
   "cell_type": "markdown",
   "metadata": {},
   "source": [
    "### 1.2"
   ]
  },
  {
   "cell_type": "markdown",
   "metadata": {},
   "source": [
    "The differential equation governing the dynamics of the voltage $V(j,t)$ in a given compartment $j$ at time $t$ was already discussed in the lecture. It is given by\n",
    "$$\n",
    "C_m \\frac{\\text{d}}{\\text{d}t}V(j,t) = I_e(j,t) + \\frac{E_m - V(j,t)}{R_m} + \\frac{V(j-1,t) - V(j,t)}{R_a} + \\frac{V(j+1,t) - V(j,t)}{R_a},\n",
    "$$\n",
    "where $I_e(j,t)$ is the injected current at compartment $j$ and at time $t$.\n",
    "\n",
    "We can approximate the evolution of the voltage over time using the forward Euler method. Thus, starting at time $t_0 = 0$, we iteratively compute $V(j,t_{n+1}) \\approx V(j,t_n) + \\Delta t \\cdot \\frac{\\text{d}}{\\text{d}t} V(j,t_n)$.\n",
    "As a first step, we will implement a step of the Euler method for a compartment that does not constitute one of the ends of the model neurite (i.e. the compartment is surrounded by other compartments to either side)."
   ]
  },
  {
   "cell_type": "markdown",
   "metadata": {},
   "source": [
    "<div class=\"alert alert-block alert-success\">\n",
    "<b>Task:</b> Complete the function surrounded_compartment_step() in a way that computes a single step of the Euler approximation for a specified compartment. The compartment is assumed to not be at the boundaries, so no need to worry about boundary conditions.\n",
    "\n",
    "</div>"
   ]
  },
  {
   "cell_type": "code",
   "execution_count": 3,
   "metadata": {},
   "outputs": [],
   "source": [
    "def surrounded_compartment_step(V, I_e, compartment_index, E_m, C_m, R_m, R_a, delta_t):\n",
    "    '''Implements a step of the Euler approximation for a non-boundary compartment\n",
    "\n",
    "    Args:\n",
    "        V: np.array of length N containing the voltages before taking the Euler step\n",
    "        I_e: np.array of length N containg the input current before taking the Euler step\n",
    "        compartment_index: Compartment to be updated in the step\n",
    "        E_m: Resting potential\n",
    "        R_m: Membrane resistance\n",
    "        R_a: Axial resistance\n",
    "        delta_t: Time constant for the Euler approximation\n",
    "\n",
    "    Returns:\n",
    "        np.array of length N containing the voltages after updating compartment compartment_index\n",
    "    '''\n",
    "    \n",
    "    ### YOUR CODE HERE ###\n",
    "\n",
    "    \n",
    "    ### YOUR CODE HERE ###\n",
    "\n",
    "    return V"
   ]
  },
  {
   "cell_type": "markdown",
   "metadata": {},
   "source": [
    "Since we have a neurite of finite length (split up into 50 compartments), we need to think about what happens on the boundaries. We assume that compartment $0$ is a sealed end, and compartment $49$ is a killed end. A sealed end simply means that there is no voltage gradient at the end of the neurite. In our discrete model, this corresponds to $V(0,t) = V(1,t)$. A killed end means that the voltage is zero, i.e. $V(49,t) = E_m = 0$. Since our function surrounded_compartment_step() doen't implement the boundary conditions, we need to do this seperately."
   ]
  },
  {
   "cell_type": "markdown",
   "metadata": {},
   "source": [
    "<div class=\"alert alert-block alert-success\">\n",
    "<b>Task:</b> Complete the function sealed_compartment_step() s.t. it performs a step of the Euler approximation for a specified compartment. The compartment is a sealed end of the neurite. You may assume that this compartment lies at the origin (i.e. has index 0).\n",
    "</div>"
   ]
  },
  {
   "cell_type": "code",
   "execution_count": 4,
   "metadata": {},
   "outputs": [],
   "source": [
    "### Sealed end on left side of cable\n",
    "def sealed_compartment_step(V, I_e, compartment_index, E_m, C_m, R_m, R_a, delta_t):\n",
    "    '''Implements a step of the Euler approximation for a sealed compartment at the spatial origin\n",
    "\n",
    "    Args:\n",
    "        V: np.array of length N containing the voltages before taking the Euler step\n",
    "        I_e: np.array of length N containg the input current before taking the Euler step\n",
    "        compartment_index: Compartment to be updated in the step\n",
    "        E_m: Resting potential\n",
    "        R_m: Membrane resistance\n",
    "        R_a: Axial resistance\n",
    "        delta_t: Time constant for the Euler approximation\n",
    "\n",
    "    Returns:\n",
    "        np.array of length N containing the voltages after updating compartment compartment_index\n",
    "    '''\n",
    "    ### YOUR CODE HERE ###\n",
    "\n",
    "    \n",
    "    ### YOUR CODE HERE ###\n",
    "\n",
    "    return V"
   ]
  },
  {
   "cell_type": "markdown",
   "metadata": {},
   "source": [
    "<div class=\"alert alert-block alert-success\">\n",
    "<b>Task:</b> Complete the function killed_compartment_step() s.t. it performs a step of the Euler approximation for a specified compartment. The compartment is a killed end of the neurite.\n",
    "</div>"
   ]
  },
  {
   "cell_type": "code",
   "execution_count": 5,
   "metadata": {},
   "outputs": [],
   "source": [
    "### Killed right end of cable\n",
    "def killed_compartment_step(V, I_e, compartment_index, E_m, C_m, R_m, R_a, delta_t):\n",
    "    '''Implements a step of the Euler approximation for a killed compartment at the right end of the cable\n",
    "\n",
    "    Args:\n",
    "        V: np.array of length N containing the voltages before taking the Euler step\n",
    "        I_e: np.array of length N containg the input current before taking the Euler step\n",
    "        compartment_index: Compartment to be updated in the step\n",
    "        E_m: Resting potential\n",
    "        R_m: Membrane resistance\n",
    "        R_a: Axial resistance\n",
    "        delta_t: Time constant for the Euler approximation\n",
    "\n",
    "    Returns:\n",
    "        np.array of length N containing the voltages after updating compartment compartment_index\n",
    "    '''\n",
    "    \n",
    "    ### YOUR CODE HERE ###\n",
    "\n",
    "    \n",
    "    ### YOUR CODE HERE ###\n",
    "\n",
    "    return V"
   ]
  },
  {
   "cell_type": "markdown",
   "metadata": {},
   "source": [
    "We now have the important parts of the model implemented. What remains is to define an input current and then actually put together the functions to perform the simulation. First, let's deal with the input. As we did on the past exercise sheet, we will simulate the response to a step input. In particular, consider the function\n",
    "$$\n",
    "I_e(t) = \n",
    "\\begin{cases}\n",
    "0, & (t < t_e) \\vee (j\\neq j_e) \\\\\n",
    "I_0, & (t_e \\leq t) \\wedge (j = j_e)\n",
    "\\end{cases}.\n",
    "$$"
   ]
  },
  {
   "cell_type": "markdown",
   "metadata": {},
   "source": [
    "<div class=\"alert alert-block alert-success\">\n",
    "<b>Task:</b> Complete the function step_input() to implement the current input $I_e(\\cdot )$ defined above for $t_e = 0.02$.\n",
    "</div>"
   ]
  },
  {
   "cell_type": "code",
   "execution_count": 6,
   "metadata": {},
   "outputs": [],
   "source": [
    "def step_input(t, N, input_compartment, I_0):\n",
    "    '''Implements the step-input function.\n",
    "\n",
    "    Args:\n",
    "        t: Time in seconds\n",
    "        N: Number of compartments in the model\n",
    "        input_compartment: Compartment in which the current is injected\n",
    "        I_0: The value of the input current\n",
    "\n",
    "    Returns:\n",
    "        The input current at a given time as a np.array of length N\n",
    "    '''\n",
    "\n",
    "    ### YOUR CODE HERE ###\n",
    "\n",
    "    \n",
    "    ### YOUR CODE HERE ###"
   ]
  },
  {
   "cell_type": "markdown",
   "metadata": {},
   "source": [
    "Now, let's set the necessary parameters for the Euler approximation. We will start at time $t=0$, and run the simulation for 600 millisecond. Set $\\Delta t = 0.0001$. This corresponds to timesteps of 0.1 miliseconds. \n",
    "\n",
    "Finally, we have to speficy the exact input current. Assume that we inject the current into the 20th compartment (i.e. the compartment with index 19), and set $I_0 = 10pA$."
   ]
  },
  {
   "cell_type": "code",
   "execution_count": 8,
   "metadata": {},
   "outputs": [],
   "source": [
    "### YOUR CODE HERE ###\n",
    "\n",
    "t_start, t_stop, delta_t = None, None, None # s\n",
    "\n",
    "input_compartment = None\n",
    "I_0 = None\n",
    "\n",
    "### YOUR CODE HERE ###\n",
    "\n",
    "time_axis = np.arange(t_start, t_stop, delta_t)"
   ]
  },
  {
   "cell_type": "markdown",
   "metadata": {},
   "source": [
    "### 1.3"
   ]
  },
  {
   "cell_type": "markdown",
   "metadata": {},
   "source": [
    "Finally, we are ready to run the simulation."
   ]
  },
  {
   "cell_type": "markdown",
   "metadata": {},
   "source": [
    "<div class=\"alert alert-block alert-success\">\n",
    "<b>Task:</b> Run the Euler approximation to find the model's voltage response as a function on time. \n",
    "    \n",
    "<i>Hint:</i> Loop over time, then over space to update the compartments successively within each time step. Inside the loop, you only need to call the the functions we defined earlier. Keep in mind that the function you have to call depends on whether the compartment lies on the boundary or not. Your solution should be a numpy array of shape (len(time_axis), N).\n",
    "</div>"
   ]
  },
  {
   "cell_type": "code",
   "execution_count": 9,
   "metadata": {},
   "outputs": [],
   "source": [
    "### YOUR CODE HERE\n",
    "\n",
    "            \n",
    "### YOUR CODE HERE ###"
   ]
  },
  {
   "cell_type": "markdown",
   "metadata": {},
   "source": [
    "<div class=\"alert alert-block alert-success\">\n",
    "<b>Task:</b> Plot the voltage (over space) at the last timestep of your simulation. This should be an approximation of the stationary solution. In a few sentences, discuss the overall shape of the function.\n",
    "</div>"
   ]
  },
  {
   "cell_type": "code",
   "execution_count": 11,
   "metadata": {
    "scrolled": true
   },
   "outputs": [
    {
     "name": "stdout",
     "output_type": "stream",
     "text": [
      "Using matplotlib backend: nbAgg\n"
     ]
    }
   ],
   "source": [
    "%matplotlib\n",
    "\n",
    "### YOUR CODE HERE\n",
    "\n",
    "\n",
    "### YOUR CODE HERE ###"
   ]
  },
  {
   "cell_type": "markdown",
   "metadata": {},
   "source": [
    "<b> Your Answer: </b>"
   ]
  },
  {
   "cell_type": "markdown",
   "metadata": {},
   "source": [
    "<div class=\"alert alert-block alert-success\">\n",
    "<b>Task:</b> Plot your entire solution in a 3D plot over space and time.\n",
    "      \n",
    "<i>Hint:</i> You may simply adapt the code alreay provided. The np.meshgrid function creates the grid over which to plot the surface.\n",
    "</div>"
   ]
  },
  {
   "cell_type": "code",
   "execution_count": null,
   "metadata": {
    "pycharm": {
     "name": "#%%\n"
    }
   },
   "outputs": [],
   "source": [
    "# Make plot interactive\n",
    "%matplotlib notebook \n",
    "\n",
    "fig = plt.figure()\n",
    "ax = fig.add_subplot(projection='3d')\n",
    "X, Y = np.meshgrid(time_axis * 1000, range(N))\n",
    "\n",
    "### YOUR CODE HERE ###\n",
    "\n",
    "ax.plot_surface(Y, X, solution_over_time.T * 1000)\n",
    "ax.set_xlabel('Compartment')\n",
    "ax.set_ylabel('Time / ms')\n",
    "ax.set_zlabel('Voltage / mV')\n",
    "plt.show()\n",
    "\n",
    "### YOUR CODE HERE ###"
   ]
  },
  {
   "cell_type": "markdown",
   "metadata": {},
   "source": [
    "Since we have the model implemented, we can without much hassle study the effect of a rectangular input current. We only need to implement the current function and then rerun our previous code. More precisely, consider the current input function\n",
    "$$\n",
    "I_e(t) = \n",
    "\\begin{cases}\n",
    "0, & (t < t_e) \\vee (t_s \\leq t) \\vee (j\\neq j_e) \\\\\n",
    "I_1, & (t_e \\leq t < t_s) \\wedge (j = j_e)\n",
    "\\end{cases}.\n",
    "$$"
   ]
  },
  {
   "cell_type": "markdown",
   "metadata": {},
   "source": [
    "<div class=\"alert alert-block alert-success\">\n",
    "<b>Task:</b> Complete the function rectangle_input() to implement the rectangular input for $t_e = 0.02$ and $t_s = 0.4$.\n",
    "</div>"
   ]
  },
  {
   "cell_type": "code",
   "execution_count": 1,
   "metadata": {},
   "outputs": [],
   "source": [
    "def rectangle_input(t, N, input_compartment, I_1):\n",
    "    '''Implements the rectangle-input function.\n",
    "\n",
    "    Args:\n",
    "        t: Time in seconds\n",
    "        N: Number of compartments in the model\n",
    "        input_compartment: Compartment in which the current is injected\n",
    "        I_1: The value of the input current\n",
    "\n",
    "    Returns:\n",
    "        The input current at a given time as a np.array of length N\n",
    "    '''\n",
    "\n",
    "    ### YOUR CODE HERE\n",
    "\n",
    "    \n",
    "    ### YOUR CODE HERE ###"
   ]
  },
  {
   "cell_type": "markdown",
   "metadata": {},
   "source": [
    "<div class=\"alert alert-block alert-success\">\n",
    "<b>Task:</b> Run the Euler approximation for the rectangular input with $I_1 = 100pA$. Plot the result in a 3D plot over space and time.\n",
    "</div>"
   ]
  },
  {
   "cell_type": "code",
   "execution_count": 15,
   "metadata": {
    "pycharm": {
     "name": "#%%\n"
    }
   },
   "outputs": [],
   "source": [
    "### YOUR CODE HERE ###\n",
    "\n",
    "            \n",
    "### YOUR CODE HERE ###"
   ]
  },
  {
   "cell_type": "code",
   "execution_count": 16,
   "metadata": {
    "pycharm": {
     "name": "#%%\n"
    },
    "scrolled": true
   },
   "outputs": [],
   "source": [
    "# Make plot interactive\n",
    "%matplotlib notebook \n",
    "\n",
    "fig = plt.figure()\n",
    "ax = fig.add_subplot(projection='3d')\n",
    "X, Y = np.meshgrid(time_axis * 1000, range(N))\n",
    "\n",
    "### YOUR CODE HERE ###\n",
    "\n",
    "ax.plot_surface(Y, X, solution_over_time.T * 1000)\n",
    "ax.set_xlabel('Compartment')\n",
    "ax.set_ylabel('Time / ms')\n",
    "ax.set_zlabel('Voltage / mV')\n",
    "plt.show()\n",
    "\n",
    "### YOUR CODE HERE ###"
   ]
  }
 ],
 "metadata": {
  "kernelspec": {
   "display_name": "Python 3",
   "language": "python",
   "name": "python3"
  },
  "language_info": {
   "codemirror_mode": {
    "name": "ipython",
    "version": 3
   },
   "file_extension": ".py",
   "mimetype": "text/x-python",
   "name": "python",
   "nbconvert_exporter": "python",
   "pygments_lexer": "ipython3",
   "version": "3.8.3"
  }
 },
 "nbformat": 4,
 "nbformat_minor": 5
}
