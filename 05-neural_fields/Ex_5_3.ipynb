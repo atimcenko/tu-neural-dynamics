{
 "cells": [
  {
   "cell_type": "markdown",
   "id": "be02b2e3",
   "metadata": {},
   "source": [
    "# Sheet 5 Exercise 3: Nonlinear Neural Field (Credits: 4)\n",
    "Note: All analytical computations are supposed to be carried out by hand! You need to submit your computations to complete the exercise. You can either write your computations into the notebook using LaTeX syntax, or submit them on paper (scan)."
   ]
  },
  {
   "cell_type": "markdown",
   "id": "304a10c0",
   "metadata": {},
   "source": [
    "Consider a nonlinear neural field of Amari type with the step threshold function. The model is given by the equation\n",
    "$$\n",
    "\\tau\\dot{u}(x,t) = -u(x,t) + \\int_{-\\infty}^{\\infty} w(x-x^\\prime)1(u(x^\\prime,t))\\text{d}x^\\prime + s(x,t) + h.\n",
    "$$\n",
    "\n",
    "Assume that the resting potential is given by $h=-1$. The input $s$ and the interaction kernel $w$ are given by piecewise-linear functions, namely\n",
    "$$\n",
    "s(x) := \\begin{cases} C\\left( 1-\\frac{\\vert x\\vert}{d} \\right), & \\vert x\\vert \\leq d \\\\ 0, & \\text{elsewhere}, \\end{cases}\n",
    "$$\n",
    "and\n",
    "$$\n",
    "w(x) := \\begin{cases} r, & \\vert x\\vert < a \\\\ -s, & a\\leq\\vert x\\vert\\leq b \\\\ 0, & \\text{elsewhere}. \\end{cases}\n",
    "$$"
   ]
  },
  {
   "cell_type": "markdown",
   "id": "c6841b76",
   "metadata": {},
   "source": [
    "#### 3.1 (mandatory)\n",
    "\n",
    "Simulate the equation to approximately find the time-dependent solution of the model. You can do this exactly as in Exercise 2 using the Euler method and a Riemann-sum-approximation of the integral. Use the parameters $\\tau=1$, $r=3$, $s=1.75$, $C=0.6$, $a=1$, $b=3$, $d=4$ and $h=-1$. For the spatial domain, use $A=-20$, $B=20$ as the integral borders.\n",
    "\n",
    "First, start the model at resting level (i.e. $u(x,0) = h$). Then use the initial condition $u(x,0) = 3.3 s(x) + h$. Finally, use the interaction kernel $\\hat{w}(x) := 0.1 w(x)$ and the initial condition $u(x,0) = 3.3 s(x) + h$.\n",
    "\n",
    "Create 3D plots of the three time-dependent solutions. What do you oberserve about the stationary solutions, and the evolution towards them? Can you explain the results?"
   ]
  },
  {
   "cell_type": "code",
   "execution_count": 1,
   "id": "505856d7",
   "metadata": {},
   "outputs": [],
   "source": [
    "import numpy as np\n",
    "import matplotlib.pyplot as plt"
   ]
  },
  {
   "cell_type": "code",
   "execution_count": null,
   "id": "8a17c8da",
   "metadata": {},
   "outputs": [],
   "source": [
    "import numpy as np\n",
    "import matplotlib.pyplot as plt\n",
    "\n",
    "### YOUR CODE HERE ###\n",
    "\n",
    "default_args = {\n",
    "                'A': -20,   # start of the x interval\n",
    "                'B': 20,    # stop of the x interval\n",
    "                'n': 300,   # number of x-points\n",
    "                'tau': 1,  # time-constant of the system\n",
    "                'a': 1,     # interaction param\n",
    "                'b': 3,   # interaction param\n",
    "                'd': 4,     # input param\n",
    "                'C': 0.6,    # \n",
    "                'dt': 1e-2, # temporal resolution of Euler's method\n",
    "                'T': 2,    # time to stop simulation\n",
    "                'add_noise': False,\n",
    "                'sigma': 0.01 # noise sqrt(variance)\n",
    "               }    \n",
    "\n",
    "\n",
    "def get_interaction_kernel(x_grid, args):\n",
    "    # setting params\n",
    "    a, b, k0 = args['a'], args['b'], args['k0']\n",
    "    n = len(x_grid)\n",
    "    dx = x_grid[1] - x_grid[0]\n",
    "    \n",
    "    W = np.zeros((n, n))\n",
    "    for i in range(n):\n",
    "        for j in range(n):   \n",
    "            delta_x = x_grid[i] - x_grid[j]\n",
    "            W[i, j] = a / np.sqrt(np.pi * b**2) * (np.exp(-(delta_x**2 / (4 * b**2))) * np.cos(k0 * delta_x)) * dx\n",
    "            \n",
    "    return W\n",
    "\n",
    "\n",
    "def get_input(x_grid, args):\n",
    "    \"\"\"Return **vector** (n, 1) of input\"\"\"\n",
    "    d = args['d']\n",
    "    s = 1 / (2 * np.sqrt(np.pi * d**2)) * np.exp(-x_grid**2 / (4 * d**2))\n",
    "    if args['add_noise']:\n",
    "        sigma = args['sigma']\n",
    "        noise = np.random.normal(scale=sigma, size=len(x_grid))\n",
    "        s += noise\n",
    "    return s.reshape((len(x_grid), 1))\n",
    "\n",
    "\n",
    "def get_du(u, W, s, args):\n",
    "    \"\"\"\n",
    "    Input:\n",
    "        u: np.array with shape (n, 1)\n",
    "        W: (n, n) interaction kernel\n",
    "        s: (n, 1) constant input\n",
    "        args: configuration for the simulation. \n",
    "        \n",
    "        Parameters needed to be specified: args['tau'], args['dt']\n",
    "        \n",
    "    Returns:\n",
    "        du: (n, 1) vector to update the solution on the next timestep\n",
    "    \"\"\"\n",
    "    dt = args['dt']\n",
    "    tau = args['tau']\n",
    "    \n",
    "    # why there is matrix multiplication see the notes. \n",
    "    # It is a different notation for calculating Riemann integral for our special case\n",
    "    du = dt / tau * (-u + W @ u + s)\n",
    "    return du\n",
    "\n",
    "\n",
    "def run_simulation(args, verbose=True):\n",
    "    \n",
    "    \"\"\"\n",
    "    Runs finite difference estimation for the neural fields specified by \"args\".\n",
    "    Returns t, x, u:\n",
    "        t: np.array, len(np.arange(0, T, dt))\n",
    "        x: np.array, len(np.linspace(A, B, n))\n",
    "        u: np.array, shape = (len(t), len(x))\n",
    "    \"\"\"\n",
    "    \n",
    "    if verbose: print(args)\n",
    "    \n",
    "    n = args['n']\n",
    "    \n",
    "    t_grid = np.arange(0, args['T'], args['dt'])\n",
    "    x_grid = np.linspace(args['A'], args['B'], args['n'])\n",
    "    \n",
    "    s = get_input(x_grid, args)              # (n, 1)\n",
    "    W = get_interaction_kernel(x_grid, args) # (n, n)\n",
    "    \n",
    "    # initialize solution array\n",
    "    # will get this done with lists cause of nasty vectors of shape (n x 1)\n",
    "    u_list = [np.zeros((n, 1))] # also set initial value u(x, t(0))\n",
    "    \n",
    "    for t in t_grid:\n",
    "        du = get_du(u_list[-1], W, s, args)\n",
    "        u_list.append(u_list[-1] + du)\n",
    "\n",
    "    return t_grid, x_grid, np.array(u_list).squeeze()\n",
    "\n",
    "\n",
    "def plot_simulation(t, x, u, args):\n",
    "    fig, axes = plt.subplots(1, 2, figsize=(10, 5))\n",
    "    ax = axes[0]\n",
    "    ax.imshow(u.T, aspect='auto', extent=[t[0], t[-1], x[0], x[-1]], cmap='gray')\n",
    "    ax.set_xlabel(\"Time ($t$)\")\n",
    "    ax.set_ylabel(\"Space ($x$)\")\n",
    "    ax.set_title(\"Solution $u(x, t)$ \\n\" + f\"Params: b = {args['b']}, d = {args['d']}, k0 = {args['k0']}\")\n",
    "    ax.grid()\n",
    "\n",
    "    ax = axes[1]\n",
    "    ax.plot(x, u[-1, :], color='black', linewidth=2)\n",
    "    ax.set_title(\"Steady state solution $u(x, T)$\")\n",
    "    ax.set_xlabel(\"Coordinate $x$\")\n",
    "\n",
    "### YOUR CODE HERE ###"
   ]
  },
  {
   "cell_type": "code",
   "execution_count": null,
   "id": "a409786d",
   "metadata": {},
   "outputs": [],
   "source": []
  },
  {
   "cell_type": "code",
   "execution_count": null,
   "id": "cfed0ea5",
   "metadata": {},
   "outputs": [],
   "source": []
  },
  {
   "cell_type": "markdown",
   "id": "2869f853",
   "metadata": {},
   "source": [
    "**Explanation:** "
   ]
  },
  {
   "cell_type": "markdown",
   "id": "e9af5280",
   "metadata": {},
   "source": [
    "#### 3.2 (Non-mandatory)\n",
    "Analytically compute the stationary solution for the case in which there is no excited region in the field. Why does no peak arise here? What is the threshold value for the input amplitude $C$ that is needed for an activated region to emerge?"
   ]
  },
  {
   "cell_type": "markdown",
   "id": "0f250821",
   "metadata": {},
   "source": [
    "**Explanation:** "
   ]
  },
  {
   "cell_type": "markdown",
   "id": "238646cf",
   "metadata": {},
   "source": [
    "#### 3.3 (mandatory)\n",
    "Consider again the first interaction kernel $w$ and the initial condition $u(x,0) = 3.3 s(x) + h$. Now set the input signal to zero (but not the initial condition!). Simulate the model. Which stationary solution emerges? How do you explain the result?"
   ]
  },
  {
   "cell_type": "code",
   "execution_count": null,
   "id": "d042f448",
   "metadata": {},
   "outputs": [],
   "source": []
  },
  {
   "cell_type": "markdown",
   "id": "59f208fa",
   "metadata": {},
   "source": [
    "**Explanation:** "
   ]
  },
  {
   "cell_type": "markdown",
   "id": "31d69fad",
   "metadata": {},
   "source": [
    "#### 3.4 (Non-mandatory)\n",
    "In the situation of 3.3, analytically compute the exact size of the stable peak. \n",
    "\n",
    "*Hint:* Use the theorems found by Amari (1977). You can check your results using the plot from 3.3."
   ]
  }
 ],
 "metadata": {
  "kernelspec": {
   "display_name": "Python 3 (ipykernel)",
   "language": "python",
   "name": "python3"
  },
  "language_info": {
   "codemirror_mode": {
    "name": "ipython",
    "version": 3
   },
   "file_extension": ".py",
   "mimetype": "text/x-python",
   "name": "python",
   "nbconvert_exporter": "python",
   "pygments_lexer": "ipython3",
   "version": "3.9.12"
  }
 },
 "nbformat": 4,
 "nbformat_minor": 5
}
