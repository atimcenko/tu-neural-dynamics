{
 "cells": [
  {
   "cell_type": "markdown",
   "metadata": {},
   "source": [
    "# Sheet 5 Exercise 3: Nonlinear Neural Field (Credits: 4)\n",
    "Note: All analytical computations are supposed to be carried out by hand! You need to submit your computations to complete the exercise. You can either write your computations into the notebook using LaTeX syntax, or submit them on paper (scan)."
   ]
  },
  {
   "cell_type": "markdown",
   "metadata": {},
   "source": [
    "Consider a nonlinear neural field of Amari type with the step threshold function. The model is given by the equation\n",
    "$$\n",
    "\\tau\\dot{u}(x,t) = -u(x,t) + \\int_{-\\infty}^{\\infty} w(x-x^\\prime)1(u(x^\\prime,t))\\text{d}x^\\prime + s(x,t) + h.\n",
    "$$\n",
    "\n",
    "Assume that the resting potential is given by $h=-1$. The input $s$ and the interaction kernel $w$ are given by piecewise-linear functions, namely\n",
    "$$\n",
    "s(x) := \\begin{cases} C\\left( 1-\\frac{\\vert x\\vert}{d} \\right), & \\vert x\\vert \\leq d \\\\ 0, & \\text{elsewhere}, \\end{cases}\n",
    "$$\n",
    "and\n",
    "$$\n",
    "w(x) := \\begin{cases} r, & \\vert x\\vert < a \\\\ -s, & a\\leq\\vert x\\vert\\leq b \\\\ 0, & \\text{elsewhere}. \\end{cases}\n",
    "$$"
   ]
  },
  {
   "cell_type": "markdown",
   "metadata": {},
   "source": [
    "#### 3.1 (mandatory)\n",
    "\n",
    "Simulate the equation to approximately find the time-dependent solution of the model. You can do this exactly as in Exercise 2 using the Euler method and a Riemann-sum-approximation of the integral. Use the parameters $\\tau=1$, $r=3$, $s=1.75$, $C=0.6$, $a=1$, $b=3$, $d=4$ and $h=-1$. For the spatial domain, use $A=-20$, $B=20$ as the integral borders.\n",
    "\n",
    "First, start the model at resting level (i.e. $u(x,0) = h$). Then use the initial condition $u(x,0) = 3.3 s(x) + h$. Finally, use the interaction kernel $\\hat{w}(x) := 0.1 w(x)$ and the initial condition $u(x,0) = 3.3 s(x) + h$.\n",
    "\n",
    "Create 3D plots of the three time-dependent solutions. What do you oberserve about the stationary solutions, and the evolution towards them? Can you explain the results?"
   ]
  },
  {
   "cell_type": "code",
   "execution_count": 1,
   "metadata": {},
   "outputs": [],
   "source": [
    "import numpy as np\n",
    "import matplotlib.pyplot as plt"
   ]
  },
  {
   "cell_type": "code",
   "execution_count": null,
   "metadata": {},
   "outputs": [],
   "source": []
  },
  {
   "cell_type": "code",
   "execution_count": null,
   "metadata": {},
   "outputs": [],
   "source": []
  },
  {
   "cell_type": "code",
   "execution_count": null,
   "metadata": {},
   "outputs": [],
   "source": []
  },
  {
   "cell_type": "markdown",
   "metadata": {},
   "source": [
    "**Explanation:** "
   ]
  },
  {
   "cell_type": "markdown",
   "metadata": {},
   "source": [
    "#### 3.2 (Non-mandatory)\n",
    "Analytically compute the stationary solution for the case in which there is no excited region in the field. Why does no peak arise here? What is the threshold value for the input amplitude $C$ that is needed for an activated region to emerge?"
   ]
  },
  {
   "cell_type": "markdown",
   "metadata": {},
   "source": [
    "**Explanation:** "
   ]
  },
  {
   "cell_type": "markdown",
   "metadata": {},
   "source": [
    "#### 3.3 (mandatory)\n",
    "Consider again the first interaction kernel $w$ and the initial condition $u(x,0) = 3.3 s(x) + h$. Now set the input signal to zero (but not the initial condition!). Simulate the model. Which stationary solution emerges? How do you explain the result?"
   ]
  },
  {
   "cell_type": "code",
   "execution_count": null,
   "metadata": {},
   "outputs": [],
   "source": []
  },
  {
   "cell_type": "markdown",
   "metadata": {},
   "source": [
    "**Explanation:** "
   ]
  },
  {
   "cell_type": "markdown",
   "metadata": {},
   "source": [
    "#### 3.4 (Non-mandatory)\n",
    "In the situation of 3.3, analytically compute the exact size of the stable peak. \n",
    "\n",
    "*Hint:* Use the theorems found by Amari (1977). You can check your results using the plot from 3.3."
   ]
  }
 ],
 "metadata": {
  "kernelspec": {
   "display_name": "Python 3",
   "language": "python",
   "name": "python3"
  },
  "language_info": {
   "codemirror_mode": {
    "name": "ipython",
    "version": 3
   },
   "file_extension": ".py",
   "mimetype": "text/x-python",
   "name": "python",
   "nbconvert_exporter": "python",
   "pygments_lexer": "ipython3",
   "version": "3.8.3"
  }
 },
 "nbformat": 4,
 "nbformat_minor": 5
}
