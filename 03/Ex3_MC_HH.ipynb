{
 "cells": [
  {
   "cell_type": "markdown",
   "metadata": {},
   "source": [
    "# Programming Exercise 3C: Multi-Compartment HH Model (Non-Mandatory, 4 Points)\n",
    "\n",
    "In this additional, non-mandatory exercise, we implement the multi-compartment Hodgkin-Huxley model. It transfers the HH model to allow modelling of spatially extended structures. The model generalizes from a point neuron to a spatial one exactly like the linear model we considered in Programming Exercise 2. First of all, recall the equations that govern the conventional HH model:\n",
    "\n",
    "$$\n",
    "\\begin{align}\n",
    "\tC_m \\frac{\\operatorname{d}V}{\\operatorname{d}t}\n",
    "\t\t&=  I_e\\left(t\\right)  -\\bar{g}_L \\left( V -E_L\\right) -\\bar{g}_\\text{Na} m^3 h \\left( V -E_\\text{Na}\\right) \t-\\bar{g}_\\text{K} n^4 \\left( V -E_\\text{K}\\right)\n",
    "\t\\label{eq:HHModel}, \\\\\n",
    "\t\\frac{\\operatorname{d}m}{\\operatorname{d}t}\t\n",
    "\t&= \\alpha_m \\left( 1-m\\right) -\\beta_m m,\\\\\n",
    "\t\\alpha_m\n",
    "\t&=\\left\\{\n",
    "\t\t\\begin{array}{l l}\n",
    "    \t\t\t0.1 \\frac{ V -25 }{1-\\exp \\left( - \\frac{ V-25}{10} \\right)},  & \\quad V \\neq 25mV\\\\\n",
    "    \t\t\t1, & \\quad V = 25mV,\\\\\n",
    "  \t\t\\end{array}\n",
    "    \t\\right. \\\\    \t\n",
    "\t\\beta_m\n",
    "\t&= 4 \\exp \\left( - \\frac{V}{18}\\right), \\\\\n",
    "\t \\frac{\\operatorname{d}h}{\\operatorname{d}t}\t\n",
    "\t &= \\alpha_h \\left( 1-h\\right) -\\beta_h h, \\\\\n",
    " \\alpha_h\n",
    " \t&=  0.07 \\exp \\left( -\\frac{V}{20} \\right), \\\\\n",
    "\t  \\beta_h\n",
    "\t  &= \\frac{1}{1+ \\exp \\left( -\\frac{V-30}{10}\\right) },\t\t\\\\\n",
    "\t\\frac{\\operatorname{d}n}{\\operatorname{d}t}\t\n",
    "\t&= \\alpha_n \\left( 1-n\\right) -\\beta_n n, \\\\\n",
    "\t\\alpha_n \t&=\\left\\{\n",
    "\t\t\\begin{array}{l l}\n",
    "    \t\t\t0.01 \\frac{ V -10}{1-\\exp \\left( - \\frac{ V-10}{10} \\right)},  & \\quad V \\neq 10mV\\\\\n",
    "    \t\t\t0.1, & \\quad V = 10mV,\\\\\n",
    "  \t\t\\end{array}\n",
    "    \t\\right. \\\\\n",
    "\t \\quad\t\\beta_n\n",
    "\t &= 0.125 \\exp \\left( - \\frac{V}{80}\\right).\n",
    "\\end{align}\n",
    "$$\n",
    "These are the equations we already implemented in Programming Exercise 3B. To model multiple HH compartments, we need to account for current in axial direction; the first equation for a compartment $i$ becomes\n",
    "\n",
    "$$\n",
    "C_m \\frac{\\operatorname{d}V_i}{\\operatorname{d}t}\n",
    "\t\t=  I_e\\left(t\\right)  -\\bar{g}_L \\left( V_i -E_L\\right) -\\bar{g}_\\text{Na} m_i^3 h_i \\left( V_i -E_\\text{Na}\\right) \t-\\bar{g}_\\text{K} n_i^4 \\left( V_i -E_\\text{K}\\right) - g_\\text{ax} (V_i - V_{i-1}) - g_\\text{ax} (V_i - V_{i+1}).\n",
    "$$\n",
    "Note that each compartment also has it's own set of gating variables. The gating variables of a compartment behave independently of other compartment's gating variables. Within a compartment, the above formulas for the gating variables still hold.\n",
    "\n",
    "We assume the same electrical properties as for the conventional (point neuron) HH model:\n",
    "<ul>\n",
    "<li>$C_m = 1 \\mu F $, membrane capacitance,</li>\n",
    "\n",
    "<li>$E_\\text{Na} = 115 mV$, sodium equilibrium potential,</li>\n",
    "\n",
    "<li>$E_\\text{K} = -12 mV$, potassium equilibrium potential,</li>\n",
    "\n",
    "<li>$E_\\text{L} = 10.6 mV$, leak equilibrium potential,</li>\n",
    "\n",
    "<li>$V\\left(0\\right)=0mV$, (starting) membrane resting potential assumed to be equal in all compartments,</li>\n",
    "\n",
    "<li>$\\bar{g}_\\text{Na} = 120  mS$, maximum conductance for sodium channel,</li>\n",
    "\n",
    "<li>$\\bar{g}_\\text{K} = 36  mS$, maximum conductance for potassium channel,</li>\n",
    "\n",
    "<li>$\\bar{g}_\\text{L} = 0.3  mS$, maximum leak conductance.</li>\n",
    "</ul>\n",
    "\n",
    "In the implementation, we again drop all units and keep in mind that the equations measure the voltage in mV.\n",
    "\n",
    "The spatial model has two additional parameters: The axial conductance $g_\\text{ax}$ and the number of compartments $N$. We set $g_\\text{ax} = 0.5 mS$ and $N=50$."
   ]
  },
  {
   "cell_type": "markdown",
   "metadata": {},
   "source": [
    "<div class=\"alert alert-block alert-success\">\n",
    "<b>Task:</b> Implement the missing model parameters.\n",
    "    \n",
    "<i>Hint:</i> Parts that were already implemented for the convenctional HH model are already implemented throughout the notebook.\n",
    "</div>"
   ]
  },
  {
   "cell_type": "code",
   "execution_count": null,
   "metadata": {
    "pycharm": {
     "name": "#%%\n"
    }
   },
   "outputs": [],
   "source": [
    "import numpy as np\n",
    "import matplotlib.pyplot as plt\n",
    "\n",
    "C_m = 1 #uF\n",
    "E_Na = 115 #mV\n",
    "E_K = -12 #mV\n",
    "E_L = 10.6 #mV\n",
    "g_Na = 120 #mS\n",
    "g_K = 36 #mS\n",
    "g_L = 0.3 #mS\n",
    "\n",
    "### YOUR CODE HERE ###\n",
    "\n",
    "g_ax = None #mS\n",
    "N = None\n",
    "\n",
    "### YOUR CODE HERE ###\n",
    "\n",
    "V_0 = np.zeros(N)"
   ]
  },
  {
   "cell_type": "markdown",
   "metadata": {},
   "source": [
    "The equations governing the gating particles within a given cell are already implemented."
   ]
  },
  {
   "cell_type": "code",
   "execution_count": null,
   "metadata": {
    "pycharm": {
     "name": "#%%\n"
    }
   },
   "outputs": [],
   "source": [
    "alpha_m = lambda V : 1 if V == 25 else 0.1 * (V - 25) / (1 - np.exp(- (V - 25) / 10))\n",
    "beta_m = lambda V : 4 * np.exp(- V / 18)\n",
    "dm_dt = lambda m, V : alpha_m(V) * (1 - m) - beta_m(V) * m\n",
    "\n",
    "alpha_h = lambda V : 0.07 * np.exp(- V / 20)\n",
    "beta_h = lambda V : 1 / (1 + np.exp(- (V - 30) / 10))\n",
    "dh_dt = lambda h, V : alpha_h(V) * (1 - h) - beta_h(V) * h\n",
    "\n",
    "alpha_n = lambda V : 0.1 if V == 10 else 0.01 * (V - 10) / (1 - np.exp(- (V - 10) / 10))\n",
    "beta_n = lambda V : 0.125 * np.exp(- V / 80)\n",
    "dn_dt = lambda n, V : alpha_n(V) * (1 - n) - beta_n(V) * n\n",
    "\n",
    "\n",
    "m_inf = lambda V : alpha_m(V) / (alpha_m(V) + beta_m(V))\n",
    "h_inf = lambda V : alpha_h(V) / (alpha_h(V) + beta_h(V))\n",
    "n_inf = lambda V : alpha_n(V) / (alpha_n(V) + beta_n(V))"
   ]
  },
  {
   "cell_type": "markdown",
   "metadata": {},
   "source": [
    "<div class=\"alert alert-block alert-success\">\n",
    "<b>Task:</b> Complete the function to compute the voltage derivative in a given compartment.\n",
    "    \n",
    "<i>Hint:</i> You only need to change the function you wrote for the conventional HH slightly. Keep in mind that we have additional parameters!\n",
    "</div>"
   ]
  },
  {
   "cell_type": "code",
   "execution_count": null,
   "metadata": {
    "pycharm": {
     "name": "#%%\n"
    }
   },
   "outputs": [],
   "source": [
    "def dV_dt_surrounded(V, V_left, V_right, I_e, C_m, E_L, E_Na, E_K, g_L, g_Na, g_K, g_ax, m, h, n):\n",
    "    ''' Implements the voltage derivative for a \"surrounded\" compartment.\n",
    "    Args:\n",
    "        V: Current membrane potential in mV\n",
    "        V_left: Current membrane potential at the compartment to the left in mV\n",
    "        V_right: Current membrane potential at the compartment to the right in mV\n",
    "        I_e: Current current input into the compartment in uA\n",
    "        C_m: Membrane capacitance in uF\n",
    "        E_L: Leak equilibrium potential in mV\n",
    "        E_Na: Na equilibrium potential in mV\n",
    "        E_K: K equilibrium potential in mV\n",
    "        g_L: Maximum leak conductance in mS\n",
    "        g_Na:Maximum Na conductance in mS\n",
    "        g_K: Maximum K conductance in mS\n",
    "        g_ax: Axial conductance in mS\n",
    "        m: Current value for m\n",
    "        h: Current value for h\n",
    "        n: Current value for n\n",
    "\n",
    "    Returns: Derivative of the voltage\n",
    "    '''\n",
    "\n",
    "    ### YOUR CODE HERE ###\n",
    "\n",
    "\n",
    "    ### YOUR CODE HERE ###"
   ]
  },
  {
   "cell_type": "markdown",
   "metadata": {},
   "source": [
    "<div class=\"alert alert-block alert-success\">\n",
    "<b>Task:</b> Complete the function simulate_HH to approximate the voltage for given electrical properties, input current function and initial value using Euler's forward method. Assume that the left end is a sealed end, and the right end is a killed end.\n",
    "    \n",
    "<i>Hint:</i> Loop over time, then over space. In each surrounded compartment, use the values computed at the last time step to update your values for the voltage, and the gating variables. Keep in mind, that each compartment has it's own set of gating variables. You can implement the sealed end by setting the left-most compartment's voltage to the value of it's right-hand neighbour from the previous timestep to ensure that the spatial gradient is zero.\n",
    "</div>"
   ]
  },
  {
   "cell_type": "code",
   "execution_count": null,
   "metadata": {
    "pycharm": {
     "name": "#%%\n"
    }
   },
   "outputs": [],
   "source": [
    "def simulate_HH(V_0, input_current_fun, input_current_params, t_start, t_stop, delta_t,\n",
    "                C_m, E_L, E_Na, E_K, g_L, g_Na, g_K, g_ax):\n",
    "    ''' Runs the HH simulation. The function should return the time axis over which the simulation was run, and the\n",
    "    voltage at each of the time steps.\n",
    "    Args:\n",
    "        V_0: np.array of length N containing the starting (resting) voltage in each compartment\n",
    "        input_current_fun: Name of the input current function\n",
    "        input_current_params: List of arguments that the current input function takes after t\n",
    "        t_start: Start time of the simulation in ms\n",
    "        t_stop: End time of the simulation in ms\n",
    "        delta_t: Euler step length in ms\n",
    "        C_m: Membrane capacitance in uF\n",
    "        E_L: Leak equilibrium potential in mV\n",
    "        E_Na: Na equilibrium potential in mV\n",
    "        E_K: K equilibrium potential in mV\n",
    "        g_L: Maximum leak conductance in mS\n",
    "        g_Na:Maximum Na conductance in mS\n",
    "        g_K: Maximum K conductance in mS\n",
    "        g_ax: Axial conductance in mS\n",
    "\n",
    "    Returns: time axis, voltage axis in ms and mV\n",
    "    '''\n",
    "    \n",
    "    ### YOUR CODE HERE ###\n",
    "\n",
    "    time_axis = np.arange(t_start, t_stop, delta_t)\n",
    "    sol = np.zeros((len(time_axis), N, 4))\n",
    "    \n",
    "    # Setting the initial state of the model\n",
    "    sol[0,:,0] = V_0\n",
    "    for compartment in range(N):\n",
    "        sol[0,compartment,1] = m_inf(V_0[compartment])\n",
    "        sol[0,compartment,2] = h_inf(V_0[compartment])\n",
    "        sol[0,compartment,3] = n_inf(V_0[compartment])\n",
    "    \n",
    "\n",
    "    ### YOUR CODE HERE ###\n",
    " \n",
    "    return time_axis, sol[:,:,0]\n",
    "\n"
   ]
  },
  {
   "cell_type": "markdown",
   "metadata": {},
   "source": [
    "We will study the voltage response to a rectangular input current of the form\n",
    "$$\n",
    "I_e(t) = \n",
    "\\begin{cases}\n",
    "0, & (t < t_e) \\vee (t_s \\leq t) \\vee (j\\neq j_e) \\\\\n",
    "I_0, & (t_e \\leq t < t_s) \\wedge (j = j_e)\n",
    "\\end{cases}.\n",
    "$$\n",
    "The function is already implemented, but please make sure you understand the function's input and output."
   ]
  },
  {
   "cell_type": "code",
   "execution_count": null,
   "metadata": {
    "pycharm": {
     "name": "#%%\n"
    }
   },
   "outputs": [],
   "source": [
    "def rectangular_input(t, I_0, t_e, t_s, j_e, N):\n",
    "    '''Implements the rectangle-input function.\n",
    "    Args:\n",
    "        t: Time in miliseconds\n",
    "        I_0: The value of the input current\n",
    "        t_e: Start time in miliseconds\n",
    "        t_s: Snd time in miliseconds\n",
    "        j_e: Compartment in which the current is injected\n",
    "        N: Number of compartments\n",
    "\n",
    "    Returns:\n",
    "        The input current at a given time\n",
    "    '''\n",
    "\n",
    "    ### YOUR CODE HERE ###\n",
    "    \n",
    "    current = np.zeros(N)\n",
    "    if t >= t_e and  t < t_s:\n",
    "        current[j_e] = I_0\n",
    "    return current\n",
    "\n",
    "    ### YOUR CODE HERE ###"
   ]
  },
  {
   "cell_type": "markdown",
   "metadata": {},
   "source": [
    "To simulate the model, we need to specify the parameters of the input current. Set $t_e = 60ms$, $t_s = 260ms$, and $j_e = 14$. Note that $j_e$ is written in terms of Python's numbering, so the current is injected into the 15th compartment from the left. We consider values of the input current of $6\\mu A$, $8\\mu A$, $15\\mu A$, $20\\mu A$ for the input current $I_0$."
   ]
  },
  {
   "cell_type": "markdown",
   "metadata": {},
   "source": [
    "<div class=\"alert alert-block alert-success\">\n",
    "<b>Task:</b> Implement the parameters. Store the values for the input current in a list (remember to drop the units!)\n",
    "</div>"
   ]
  },
  {
   "cell_type": "code",
   "execution_count": null,
   "metadata": {
    "pycharm": {
     "name": "#%%\n"
    }
   },
   "outputs": [],
   "source": [
    "t_start, t_stop, delta_t = 0, 500, 0.025 #ms\n",
    "\n",
    "### YOUR CODE HERE ###\n",
    "\n",
    "t_e, t_s = None, None #ms\n",
    "j_e = None\n",
    "I_0_list = None\n",
    "\n",
    "### YOUR CODE HERE ###"
   ]
  },
  {
   "cell_type": "markdown",
   "metadata": {},
   "source": [
    "<div class=\"alert alert-block alert-success\">\n",
    "<b>Task:</b> Run the simulation of the multi-compartment HH model by calling your function simulate_HH for each of the four input currents. Plot the voltage response to the four inputs for the compartments $0$, $14$, $48$. Qualitatively summarize the findings.\n",
    "\n",
    "<i>Hint:</i> Make three (sub)plots, each containing the response of one compartment to all inputs.\n",
    "</div>"
   ]
  },
  {
   "cell_type": "code",
   "execution_count": null,
   "metadata": {
    "pycharm": {
     "name": "#%%\n"
    }
   },
   "outputs": [],
   "source": [
    "time = np.arange(t_start, t_stop, delta_t)\n",
    "\n",
    "all_solutions = np.zeros((len(I_0_list), len(time), N))\n",
    "\n",
    "### YOUR CODE HERE ###\n",
    "\n",
    "    \n",
    "### YOUR CODE HERE ###"
   ]
  },
  {
   "cell_type": "code",
   "execution_count": null,
   "metadata": {
    "pycharm": {
     "name": "#%%\n"
    },
    "scrolled": true
   },
   "outputs": [],
   "source": [
    "plot_compartments = [0, 14, 48]\n",
    "\n",
    "### YOUR CODE HERE ###\n",
    "\n",
    "\n",
    "### YOUR CODE HERE ###"
   ]
  },
  {
   "cell_type": "markdown",
   "metadata": {},
   "source": [
    "<b>Your answer</b>:  "
   ]
  },
  {
   "cell_type": "markdown",
   "metadata": {},
   "source": [
    "<div class=\"alert alert-block alert-success\">\n",
    "<b>Task:</b> Finally, create 3D plots to visualize the time- and space dependent voltage response. To make use of interactive plotting, create each plot in it's own cell.\n",
    "</div>"
   ]
  },
  {
   "cell_type": "code",
   "execution_count": null,
   "metadata": {
    "pycharm": {
     "name": "#%%\n"
    }
   },
   "outputs": [],
   "source": [
    "%matplotlib notebook\n",
    "fig = plt.figure(figsize=(5,5))\n",
    "ax = fig.add_subplot(projection='3d')\n",
    "X, Y = np.meshgrid(time, range(N))\n",
    "\n",
    "### YOUR CODE HERE ###\n",
    "\n",
    "\n",
    "### YOUR CODE HERE ###"
   ]
  },
  {
   "cell_type": "code",
   "execution_count": null,
   "metadata": {
    "pycharm": {
     "name": "#%%\n"
    }
   },
   "outputs": [],
   "source": [
    "%matplotlib notebook\n",
    "fig = plt.figure(figsize=(5,5))\n",
    "ax = fig.add_subplot(projection='3d')\n",
    "X, Y = np.meshgrid(time, range(N))\n",
    "\n",
    "### YOUR CODE HERE ###\n",
    "\n",
    "\n",
    "### YOUR CODE HERE ###"
   ]
  },
  {
   "cell_type": "code",
   "execution_count": null,
   "metadata": {},
   "outputs": [],
   "source": [
    "%matplotlib notebook\n",
    "fig = plt.figure(figsize=(5,5))\n",
    "ax = fig.add_subplot(projection='3d')\n",
    "X, Y = np.meshgrid(time, range(N))\n",
    "\n",
    "### YOUR CODE HERE ###\n",
    "\n",
    "\n",
    "### YOUR CODE HERE ###"
   ]
  },
  {
   "cell_type": "code",
   "execution_count": null,
   "metadata": {},
   "outputs": [],
   "source": [
    "%matplotlib notebook\n",
    "fig = plt.figure(figsize=(5,5))\n",
    "ax = fig.add_subplot(projection='3d')\n",
    "X, Y = np.meshgrid(time, range(N))\n",
    "\n",
    "### YOUR CODE HERE ###\n",
    "\n",
    "\n",
    "### YOUR CODE HERE ###"
   ]
  }
 ],
 "metadata": {
  "kernelspec": {
   "display_name": "Python 3",
   "language": "python",
   "name": "python3"
  },
  "language_info": {
   "codemirror_mode": {
    "name": "ipython",
    "version": 3
   },
   "file_extension": ".py",
   "mimetype": "text/x-python",
   "name": "python",
   "nbconvert_exporter": "python",
   "pygments_lexer": "ipython3",
   "version": "3.8.3"
  }
 },
 "nbformat": 4,
 "nbformat_minor": 1
}
